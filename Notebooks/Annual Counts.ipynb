{
 "cells": [
  {
   "cell_type": "code",
   "execution_count": 1,
   "metadata": {},
   "outputs": [],
   "source": [
    "import pandas as pd\n",
    "import numpy as np\n",
    "import altair as alt"
   ]
  },
  {
   "cell_type": "code",
   "execution_count": 2,
   "metadata": {},
   "outputs": [],
   "source": [
    "file = pd.read_csv('all_irvine_thefts_final.csv')"
   ]
  },
  {
   "cell_type": "code",
   "execution_count": 3,
   "metadata": {},
   "outputs": [
    {
     "data": {
      "text/html": [
       "<div>\n",
       "<style scoped>\n",
       "    .dataframe tbody tr th:only-of-type {\n",
       "        vertical-align: middle;\n",
       "    }\n",
       "\n",
       "    .dataframe tbody tr th {\n",
       "        vertical-align: top;\n",
       "    }\n",
       "\n",
       "    .dataframe thead th {\n",
       "        text-align: right;\n",
       "    }\n",
       "</style>\n",
       "<table border=\"1\" class=\"dataframe\">\n",
       "  <thead>\n",
       "    <tr style=\"text-align: right;\">\n",
       "      <th></th>\n",
       "      <th>DR</th>\n",
       "      <th>Date</th>\n",
       "      <th>Month</th>\n",
       "      <th>Year</th>\n",
       "      <th>Block</th>\n",
       "      <th>Type</th>\n",
       "      <th>Week_Num</th>\n",
       "      <th>Number</th>\n",
       "      <th>Street</th>\n",
       "      <th>Address</th>\n",
       "      <th>Lat</th>\n",
       "      <th>Lon</th>\n",
       "      <th>Type_Num</th>\n",
       "    </tr>\n",
       "  </thead>\n",
       "  <tbody>\n",
       "    <tr>\n",
       "      <td>0</td>\n",
       "      <td>1100034</td>\n",
       "      <td>2011-01-01</td>\n",
       "      <td>1</td>\n",
       "      <td>2011</td>\n",
       "      <td>CAPSTONE / RIVERSTONE                         ...</td>\n",
       "      <td>Vehicle</td>\n",
       "      <td>1</td>\n",
       "      <td>0</td>\n",
       "      <td>CAPSTONE / RIVERSTONE</td>\n",
       "      <td>0 CAPSTONE / RIVERSTONE, Irvine, CA</td>\n",
       "      <td>33.700425</td>\n",
       "      <td>-117.796927</td>\n",
       "      <td>0</td>\n",
       "    </tr>\n",
       "  </tbody>\n",
       "</table>\n",
       "</div>"
      ],
      "text/plain": [
       "        DR        Date  Month  Year  \\\n",
       "0  1100034  2011-01-01      1  2011   \n",
       "\n",
       "                                               Block     Type  Week_Num  \\\n",
       "0  CAPSTONE / RIVERSTONE                         ...  Vehicle         1   \n",
       "\n",
       "   Number                 Street                              Address  \\\n",
       "0       0  CAPSTONE / RIVERSTONE  0 CAPSTONE / RIVERSTONE, Irvine, CA   \n",
       "\n",
       "         Lat         Lon  Type_Num  \n",
       "0  33.700425 -117.796927         0  "
      ]
     },
     "execution_count": 3,
     "metadata": {},
     "output_type": "execute_result"
    }
   ],
   "source": [
    "file.head(1)"
   ]
  },
  {
   "cell_type": "code",
   "execution_count": 4,
   "metadata": {},
   "outputs": [
    {
     "data": {
      "text/plain": [
       "Vehicle    4218\n",
       "Garage     1203\n",
       "Package     969\n",
       "Name: Type, dtype: int64"
      ]
     },
     "execution_count": 4,
     "metadata": {},
     "output_type": "execute_result"
    }
   ],
   "source": [
    "file.Type.value_counts()"
   ]
  },
  {
   "cell_type": "code",
   "execution_count": 5,
   "metadata": {},
   "outputs": [],
   "source": [
    "vehicle = []\n",
    "garage = []\n",
    "package = []\n",
    "lists = [vehicle, garage, package]\n",
    "counter=0\n",
    "for type in ['Vehicle', 'Garage', 'Package']:\n",
    "    df = file[file.Type == type]\n",
    "    for year in file.Year.unique():\n",
    "        count = df[df.Year == year].shape[0]\n",
    "        lists[counter].append(count)\n",
    "    counter += 1"
   ]
  },
  {
   "cell_type": "code",
   "execution_count": 6,
   "metadata": {},
   "outputs": [
    {
     "data": {
      "text/html": [
       "<div>\n",
       "<style scoped>\n",
       "    .dataframe tbody tr th:only-of-type {\n",
       "        vertical-align: middle;\n",
       "    }\n",
       "\n",
       "    .dataframe tbody tr th {\n",
       "        vertical-align: top;\n",
       "    }\n",
       "\n",
       "    .dataframe thead th {\n",
       "        text-align: right;\n",
       "    }\n",
       "</style>\n",
       "<table border=\"1\" class=\"dataframe\">\n",
       "  <thead>\n",
       "    <tr style=\"text-align: right;\">\n",
       "      <th></th>\n",
       "      <th>Year</th>\n",
       "      <th>Vehicle</th>\n",
       "      <th>Garage</th>\n",
       "      <th>Package</th>\n",
       "    </tr>\n",
       "  </thead>\n",
       "  <tbody>\n",
       "    <tr>\n",
       "      <td>0</td>\n",
       "      <td>2011</td>\n",
       "      <td>435</td>\n",
       "      <td>101</td>\n",
       "      <td>60</td>\n",
       "    </tr>\n",
       "    <tr>\n",
       "      <td>1</td>\n",
       "      <td>2012</td>\n",
       "      <td>448</td>\n",
       "      <td>127</td>\n",
       "      <td>44</td>\n",
       "    </tr>\n",
       "    <tr>\n",
       "      <td>2</td>\n",
       "      <td>2013</td>\n",
       "      <td>344</td>\n",
       "      <td>151</td>\n",
       "      <td>61</td>\n",
       "    </tr>\n",
       "    <tr>\n",
       "      <td>3</td>\n",
       "      <td>2014</td>\n",
       "      <td>305</td>\n",
       "      <td>120</td>\n",
       "      <td>68</td>\n",
       "    </tr>\n",
       "    <tr>\n",
       "      <td>4</td>\n",
       "      <td>2015</td>\n",
       "      <td>630</td>\n",
       "      <td>137</td>\n",
       "      <td>148</td>\n",
       "    </tr>\n",
       "    <tr>\n",
       "      <td>5</td>\n",
       "      <td>2016</td>\n",
       "      <td>607</td>\n",
       "      <td>157</td>\n",
       "      <td>151</td>\n",
       "    </tr>\n",
       "    <tr>\n",
       "      <td>6</td>\n",
       "      <td>2017</td>\n",
       "      <td>591</td>\n",
       "      <td>121</td>\n",
       "      <td>168</td>\n",
       "    </tr>\n",
       "    <tr>\n",
       "      <td>7</td>\n",
       "      <td>2018</td>\n",
       "      <td>600</td>\n",
       "      <td>209</td>\n",
       "      <td>176</td>\n",
       "    </tr>\n",
       "    <tr>\n",
       "      <td>8</td>\n",
       "      <td>2019</td>\n",
       "      <td>258</td>\n",
       "      <td>80</td>\n",
       "      <td>93</td>\n",
       "    </tr>\n",
       "  </tbody>\n",
       "</table>\n",
       "</div>"
      ],
      "text/plain": [
       "   Year  Vehicle  Garage  Package\n",
       "0  2011      435     101       60\n",
       "1  2012      448     127       44\n",
       "2  2013      344     151       61\n",
       "3  2014      305     120       68\n",
       "4  2015      630     137      148\n",
       "5  2016      607     157      151\n",
       "6  2017      591     121      168\n",
       "7  2018      600     209      176\n",
       "8  2019      258      80       93"
      ]
     },
     "execution_count": 6,
     "metadata": {},
     "output_type": "execute_result"
    }
   ],
   "source": [
    "thefts = pd.DataFrame({'Year':file.Year.unique(), 'Vehicle':vehicle, 'Garage':garage, 'Package':package})\n",
    "thefts"
   ]
  },
  {
   "cell_type": "markdown",
   "metadata": {},
   "source": [
    "Plotting via Altair:"
   ]
  },
  {
   "cell_type": "code",
   "execution_count": 7,
   "metadata": {},
   "outputs": [],
   "source": [
    "type_df = pd.DataFrame()\n",
    "for theft_type in ['Vehicle', 'Garage', 'Package']:\n",
    "    df = file[file.Type == theft_type]\n",
    "    counts = []\n",
    "    for year in file.Year.unique():\n",
    "        counts.append(df[df.Year == year].shape[0])\n",
    "    temp_df = pd.DataFrame({'Year':file.Year.unique(), 'Type':np.full(len(file.Year.unique()), theft_type), 'Count':counts})\n",
    "    type_df = pd.concat([type_df, temp_df])"
   ]
  },
  {
   "cell_type": "code",
   "execution_count": 8,
   "metadata": {},
   "outputs": [
    {
     "data": {
      "text/html": [
       "<div>\n",
       "<style scoped>\n",
       "    .dataframe tbody tr th:only-of-type {\n",
       "        vertical-align: middle;\n",
       "    }\n",
       "\n",
       "    .dataframe tbody tr th {\n",
       "        vertical-align: top;\n",
       "    }\n",
       "\n",
       "    .dataframe thead th {\n",
       "        text-align: right;\n",
       "    }\n",
       "</style>\n",
       "<table border=\"1\" class=\"dataframe\">\n",
       "  <thead>\n",
       "    <tr style=\"text-align: right;\">\n",
       "      <th></th>\n",
       "      <th>Year</th>\n",
       "      <th>Type</th>\n",
       "      <th>Count</th>\n",
       "    </tr>\n",
       "  </thead>\n",
       "  <tbody>\n",
       "    <tr>\n",
       "      <td>0</td>\n",
       "      <td>2011</td>\n",
       "      <td>Vehicle</td>\n",
       "      <td>435</td>\n",
       "    </tr>\n",
       "    <tr>\n",
       "      <td>1</td>\n",
       "      <td>2012</td>\n",
       "      <td>Vehicle</td>\n",
       "      <td>448</td>\n",
       "    </tr>\n",
       "    <tr>\n",
       "      <td>2</td>\n",
       "      <td>2013</td>\n",
       "      <td>Vehicle</td>\n",
       "      <td>344</td>\n",
       "    </tr>\n",
       "    <tr>\n",
       "      <td>3</td>\n",
       "      <td>2014</td>\n",
       "      <td>Vehicle</td>\n",
       "      <td>305</td>\n",
       "    </tr>\n",
       "    <tr>\n",
       "      <td>4</td>\n",
       "      <td>2015</td>\n",
       "      <td>Vehicle</td>\n",
       "      <td>630</td>\n",
       "    </tr>\n",
       "    <tr>\n",
       "      <td>5</td>\n",
       "      <td>2016</td>\n",
       "      <td>Vehicle</td>\n",
       "      <td>607</td>\n",
       "    </tr>\n",
       "    <tr>\n",
       "      <td>6</td>\n",
       "      <td>2017</td>\n",
       "      <td>Vehicle</td>\n",
       "      <td>591</td>\n",
       "    </tr>\n",
       "    <tr>\n",
       "      <td>7</td>\n",
       "      <td>2018</td>\n",
       "      <td>Vehicle</td>\n",
       "      <td>600</td>\n",
       "    </tr>\n",
       "    <tr>\n",
       "      <td>8</td>\n",
       "      <td>2019</td>\n",
       "      <td>Vehicle</td>\n",
       "      <td>258</td>\n",
       "    </tr>\n",
       "    <tr>\n",
       "      <td>0</td>\n",
       "      <td>2011</td>\n",
       "      <td>Garage</td>\n",
       "      <td>101</td>\n",
       "    </tr>\n",
       "    <tr>\n",
       "      <td>1</td>\n",
       "      <td>2012</td>\n",
       "      <td>Garage</td>\n",
       "      <td>127</td>\n",
       "    </tr>\n",
       "    <tr>\n",
       "      <td>2</td>\n",
       "      <td>2013</td>\n",
       "      <td>Garage</td>\n",
       "      <td>151</td>\n",
       "    </tr>\n",
       "    <tr>\n",
       "      <td>3</td>\n",
       "      <td>2014</td>\n",
       "      <td>Garage</td>\n",
       "      <td>120</td>\n",
       "    </tr>\n",
       "    <tr>\n",
       "      <td>4</td>\n",
       "      <td>2015</td>\n",
       "      <td>Garage</td>\n",
       "      <td>137</td>\n",
       "    </tr>\n",
       "    <tr>\n",
       "      <td>5</td>\n",
       "      <td>2016</td>\n",
       "      <td>Garage</td>\n",
       "      <td>157</td>\n",
       "    </tr>\n",
       "    <tr>\n",
       "      <td>6</td>\n",
       "      <td>2017</td>\n",
       "      <td>Garage</td>\n",
       "      <td>121</td>\n",
       "    </tr>\n",
       "    <tr>\n",
       "      <td>7</td>\n",
       "      <td>2018</td>\n",
       "      <td>Garage</td>\n",
       "      <td>209</td>\n",
       "    </tr>\n",
       "    <tr>\n",
       "      <td>8</td>\n",
       "      <td>2019</td>\n",
       "      <td>Garage</td>\n",
       "      <td>80</td>\n",
       "    </tr>\n",
       "    <tr>\n",
       "      <td>0</td>\n",
       "      <td>2011</td>\n",
       "      <td>Package</td>\n",
       "      <td>60</td>\n",
       "    </tr>\n",
       "    <tr>\n",
       "      <td>1</td>\n",
       "      <td>2012</td>\n",
       "      <td>Package</td>\n",
       "      <td>44</td>\n",
       "    </tr>\n",
       "    <tr>\n",
       "      <td>2</td>\n",
       "      <td>2013</td>\n",
       "      <td>Package</td>\n",
       "      <td>61</td>\n",
       "    </tr>\n",
       "    <tr>\n",
       "      <td>3</td>\n",
       "      <td>2014</td>\n",
       "      <td>Package</td>\n",
       "      <td>68</td>\n",
       "    </tr>\n",
       "    <tr>\n",
       "      <td>4</td>\n",
       "      <td>2015</td>\n",
       "      <td>Package</td>\n",
       "      <td>148</td>\n",
       "    </tr>\n",
       "    <tr>\n",
       "      <td>5</td>\n",
       "      <td>2016</td>\n",
       "      <td>Package</td>\n",
       "      <td>151</td>\n",
       "    </tr>\n",
       "    <tr>\n",
       "      <td>6</td>\n",
       "      <td>2017</td>\n",
       "      <td>Package</td>\n",
       "      <td>168</td>\n",
       "    </tr>\n",
       "    <tr>\n",
       "      <td>7</td>\n",
       "      <td>2018</td>\n",
       "      <td>Package</td>\n",
       "      <td>176</td>\n",
       "    </tr>\n",
       "    <tr>\n",
       "      <td>8</td>\n",
       "      <td>2019</td>\n",
       "      <td>Package</td>\n",
       "      <td>93</td>\n",
       "    </tr>\n",
       "  </tbody>\n",
       "</table>\n",
       "</div>"
      ],
      "text/plain": [
       "   Year     Type  Count\n",
       "0  2011  Vehicle    435\n",
       "1  2012  Vehicle    448\n",
       "2  2013  Vehicle    344\n",
       "3  2014  Vehicle    305\n",
       "4  2015  Vehicle    630\n",
       "5  2016  Vehicle    607\n",
       "6  2017  Vehicle    591\n",
       "7  2018  Vehicle    600\n",
       "8  2019  Vehicle    258\n",
       "0  2011   Garage    101\n",
       "1  2012   Garage    127\n",
       "2  2013   Garage    151\n",
       "3  2014   Garage    120\n",
       "4  2015   Garage    137\n",
       "5  2016   Garage    157\n",
       "6  2017   Garage    121\n",
       "7  2018   Garage    209\n",
       "8  2019   Garage     80\n",
       "0  2011  Package     60\n",
       "1  2012  Package     44\n",
       "2  2013  Package     61\n",
       "3  2014  Package     68\n",
       "4  2015  Package    148\n",
       "5  2016  Package    151\n",
       "6  2017  Package    168\n",
       "7  2018  Package    176\n",
       "8  2019  Package     93"
      ]
     },
     "execution_count": 8,
     "metadata": {},
     "output_type": "execute_result"
    }
   ],
   "source": [
    "type_df"
   ]
  },
  {
   "cell_type": "code",
   "execution_count": 9,
   "metadata": {},
   "outputs": [
    {
     "data": {
      "application/vnd.vegalite.v3+json": {
       "$schema": "https://vega.github.io/schema/vega-lite/v3.4.0.json",
       "background": "White",
       "config": {
        "axis": {
         "labelAngle": 0
        },
        "mark": {
         "tooltip": null
        },
        "view": {
         "height": 300,
         "strokeWidth": 0,
         "width": 400
        }
       },
       "data": {
        "name": "data-e2b2a243cec73c65600a503dfedbc5c1"
       },
       "datasets": {
        "data-e2b2a243cec73c65600a503dfedbc5c1": [
         {
          "Count": 435,
          "Type": "Vehicle",
          "Year": 2011
         },
         {
          "Count": 448,
          "Type": "Vehicle",
          "Year": 2012
         },
         {
          "Count": 344,
          "Type": "Vehicle",
          "Year": 2013
         },
         {
          "Count": 305,
          "Type": "Vehicle",
          "Year": 2014
         },
         {
          "Count": 630,
          "Type": "Vehicle",
          "Year": 2015
         },
         {
          "Count": 607,
          "Type": "Vehicle",
          "Year": 2016
         },
         {
          "Count": 591,
          "Type": "Vehicle",
          "Year": 2017
         },
         {
          "Count": 600,
          "Type": "Vehicle",
          "Year": 2018
         },
         {
          "Count": 258,
          "Type": "Vehicle",
          "Year": 2019
         },
         {
          "Count": 101,
          "Type": "Garage",
          "Year": 2011
         },
         {
          "Count": 127,
          "Type": "Garage",
          "Year": 2012
         },
         {
          "Count": 151,
          "Type": "Garage",
          "Year": 2013
         },
         {
          "Count": 120,
          "Type": "Garage",
          "Year": 2014
         },
         {
          "Count": 137,
          "Type": "Garage",
          "Year": 2015
         },
         {
          "Count": 157,
          "Type": "Garage",
          "Year": 2016
         },
         {
          "Count": 121,
          "Type": "Garage",
          "Year": 2017
         },
         {
          "Count": 209,
          "Type": "Garage",
          "Year": 2018
         },
         {
          "Count": 80,
          "Type": "Garage",
          "Year": 2019
         },
         {
          "Count": 60,
          "Type": "Package",
          "Year": 2011
         },
         {
          "Count": 44,
          "Type": "Package",
          "Year": 2012
         },
         {
          "Count": 61,
          "Type": "Package",
          "Year": 2013
         },
         {
          "Count": 68,
          "Type": "Package",
          "Year": 2014
         },
         {
          "Count": 148,
          "Type": "Package",
          "Year": 2015
         },
         {
          "Count": 151,
          "Type": "Package",
          "Year": 2016
         },
         {
          "Count": 168,
          "Type": "Package",
          "Year": 2017
         },
         {
          "Count": 176,
          "Type": "Package",
          "Year": 2018
         },
         {
          "Count": 93,
          "Type": "Package",
          "Year": 2019
         }
        ]
       },
       "encoding": {
        "color": {
         "field": "Type",
         "title": null,
         "type": "nominal"
        },
        "x": {
         "field": "Year",
         "type": "ordinal"
        },
        "y": {
         "field": "Count",
         "title": "Annual Theft",
         "type": "quantitative"
        }
       },
       "mark": {
        "strokeCap": "round",
        "strokeWidth": 4,
        "type": "line"
       },
       "width": 500
      },
      "image/png": "[encoded data removed]",
      "text/plain": [
       "<VegaLite 3 object>\n",
       "\n",
       "If you see this message, it means the renderer has not been properly enabled\n",
       "for the frontend that you are using. For more information, see\n",
       "https://altair-viz.github.io/user_guide/troubleshooting.html\n"
      ]
     },
     "execution_count": 9,
     "metadata": {},
     "output_type": "execute_result"
    }
   ],
   "source": [
    "alt.Chart(type_df).configure_axis(labelAngle=0).mark_line(strokeWidth=4, strokeCap='round').encode(\n",
    "x=alt.X('Year:O'),\n",
    "y=alt.Y('Count', title='Annual Theft'),\n",
    "color=alt.Color('Type', title=None)).properties(background='White', width=500).configure_view(strokeWidth=0)"
   ]
  },
  {
   "cell_type": "markdown",
   "metadata": {},
   "source": [
    "*Note: 2019 data is only through May"
   ]
  },
  {
   "cell_type": "markdown",
   "metadata": {},
   "source": [
    "Layered Bar Chart:"
   ]
  },
  {
   "cell_type": "code",
   "execution_count": 10,
   "metadata": {},
   "outputs": [
    {
     "data": {
      "application/vnd.vegalite.v3+json": {
       "$schema": "https://vega.github.io/schema/vega-lite/v3.4.0.json",
       "background": "White",
       "config": {
        "axis": {
         "labelAngle": 0
        },
        "mark": {
         "tooltip": null
        },
        "view": {
         "height": 300,
         "strokeWidth": 0,
         "width": 400
        }
       },
       "data": {
        "name": "data-e2b2a243cec73c65600a503dfedbc5c1"
       },
       "datasets": {
        "data-e2b2a243cec73c65600a503dfedbc5c1": [
         {
          "Count": 435,
          "Type": "Vehicle",
          "Year": 2011
         },
         {
          "Count": 448,
          "Type": "Vehicle",
          "Year": 2012
         },
         {
          "Count": 344,
          "Type": "Vehicle",
          "Year": 2013
         },
         {
          "Count": 305,
          "Type": "Vehicle",
          "Year": 2014
         },
         {
          "Count": 630,
          "Type": "Vehicle",
          "Year": 2015
         },
         {
          "Count": 607,
          "Type": "Vehicle",
          "Year": 2016
         },
         {
          "Count": 591,
          "Type": "Vehicle",
          "Year": 2017
         },
         {
          "Count": 600,
          "Type": "Vehicle",
          "Year": 2018
         },
         {
          "Count": 258,
          "Type": "Vehicle",
          "Year": 2019
         },
         {
          "Count": 101,
          "Type": "Garage",
          "Year": 2011
         },
         {
          "Count": 127,
          "Type": "Garage",
          "Year": 2012
         },
         {
          "Count": 151,
          "Type": "Garage",
          "Year": 2013
         },
         {
          "Count": 120,
          "Type": "Garage",
          "Year": 2014
         },
         {
          "Count": 137,
          "Type": "Garage",
          "Year": 2015
         },
         {
          "Count": 157,
          "Type": "Garage",
          "Year": 2016
         },
         {
          "Count": 121,
          "Type": "Garage",
          "Year": 2017
         },
         {
          "Count": 209,
          "Type": "Garage",
          "Year": 2018
         },
         {
          "Count": 80,
          "Type": "Garage",
          "Year": 2019
         },
         {
          "Count": 60,
          "Type": "Package",
          "Year": 2011
         },
         {
          "Count": 44,
          "Type": "Package",
          "Year": 2012
         },
         {
          "Count": 61,
          "Type": "Package",
          "Year": 2013
         },
         {
          "Count": 68,
          "Type": "Package",
          "Year": 2014
         },
         {
          "Count": 148,
          "Type": "Package",
          "Year": 2015
         },
         {
          "Count": 151,
          "Type": "Package",
          "Year": 2016
         },
         {
          "Count": 168,
          "Type": "Package",
          "Year": 2017
         },
         {
          "Count": 176,
          "Type": "Package",
          "Year": 2018
         },
         {
          "Count": 93,
          "Type": "Package",
          "Year": 2019
         }
        ]
       },
       "encoding": {
        "color": {
         "field": "Type",
         "scale": {
          "range": [
           "#08589e",
           "#bcbd22",
           "purple"
          ]
         },
         "title": null,
         "type": "nominal"
        },
        "x": {
         "field": "Year",
         "type": "ordinal"
        },
        "y": {
         "field": "Count",
         "stack": null,
         "title": "Annual Theft",
         "type": "quantitative"
        }
       },
       "mark": {
        "opacity": 0.85,
        "type": "bar"
       },
       "width": 500
      },
      "image/png": "[encoded data removed]",
      "text/plain": [
       "<VegaLite 3 object>\n",
       "\n",
       "If you see this message, it means the renderer has not been properly enabled\n",
       "for the frontend that you are using. For more information, see\n",
       "https://altair-viz.github.io/user_guide/troubleshooting.html\n"
      ]
     },
     "execution_count": 10,
     "metadata": {},
     "output_type": "execute_result"
    }
   ],
   "source": [
    "alt.Chart(type_df).configure_axis(labelAngle=0).mark_bar(opacity=.85).encode(\n",
    "x=alt.X('Year:O'),\n",
    "y=alt.Y('Count', title='Annual Theft', stack=None),\n",
    "color=alt.Color('Type', title=None, scale=alt.Scale(range=['#08589e', '#bcbd22', 'purple']))).properties(background='White', width=500).configure_view(strokeWidth=0)"
   ]
  },
  {
   "cell_type": "markdown",
   "metadata": {},
   "source": [
    "Grouped Bar Chart:"
   ]
  },
  {
   "cell_type": "code",
   "execution_count": 11,
   "metadata": {},
   "outputs": [
    {
     "data": {
      "application/vnd.vegalite.v3+json": {
       "$schema": "https://vega.github.io/schema/vega-lite/v3.4.0.json",
       "background": "white",
       "config": {
        "mark": {
         "tooltip": null
        },
        "view": {
         "height": 300,
         "width": 400
        }
       },
       "data": {
        "name": "data-e2b2a243cec73c65600a503dfedbc5c1"
       },
       "datasets": {
        "data-e2b2a243cec73c65600a503dfedbc5c1": [
         {
          "Count": 435,
          "Type": "Vehicle",
          "Year": 2011
         },
         {
          "Count": 448,
          "Type": "Vehicle",
          "Year": 2012
         },
         {
          "Count": 344,
          "Type": "Vehicle",
          "Year": 2013
         },
         {
          "Count": 305,
          "Type": "Vehicle",
          "Year": 2014
         },
         {
          "Count": 630,
          "Type": "Vehicle",
          "Year": 2015
         },
         {
          "Count": 607,
          "Type": "Vehicle",
          "Year": 2016
         },
         {
          "Count": 591,
          "Type": "Vehicle",
          "Year": 2017
         },
         {
          "Count": 600,
          "Type": "Vehicle",
          "Year": 2018
         },
         {
          "Count": 258,
          "Type": "Vehicle",
          "Year": 2019
         },
         {
          "Count": 101,
          "Type": "Garage",
          "Year": 2011
         },
         {
          "Count": 127,
          "Type": "Garage",
          "Year": 2012
         },
         {
          "Count": 151,
          "Type": "Garage",
          "Year": 2013
         },
         {
          "Count": 120,
          "Type": "Garage",
          "Year": 2014
         },
         {
          "Count": 137,
          "Type": "Garage",
          "Year": 2015
         },
         {
          "Count": 157,
          "Type": "Garage",
          "Year": 2016
         },
         {
          "Count": 121,
          "Type": "Garage",
          "Year": 2017
         },
         {
          "Count": 209,
          "Type": "Garage",
          "Year": 2018
         },
         {
          "Count": 80,
          "Type": "Garage",
          "Year": 2019
         },
         {
          "Count": 60,
          "Type": "Package",
          "Year": 2011
         },
         {
          "Count": 44,
          "Type": "Package",
          "Year": 2012
         },
         {
          "Count": 61,
          "Type": "Package",
          "Year": 2013
         },
         {
          "Count": 68,
          "Type": "Package",
          "Year": 2014
         },
         {
          "Count": 148,
          "Type": "Package",
          "Year": 2015
         },
         {
          "Count": 151,
          "Type": "Package",
          "Year": 2016
         },
         {
          "Count": 168,
          "Type": "Package",
          "Year": 2017
         },
         {
          "Count": 176,
          "Type": "Package",
          "Year": 2018
         },
         {
          "Count": 93,
          "Type": "Package",
          "Year": 2019
         }
        ]
       },
       "encoding": {
        "color": {
         "field": "Type",
         "scale": {
          "range": [
           "#08589e",
           "#bcbd22",
           "purple"
          ]
         },
         "type": "nominal"
        },
        "column": {
         "field": "Year",
         "type": "quantitative"
        },
        "x": {
         "field": "Type",
         "title": null,
         "type": "nominal"
        },
        "y": {
         "field": "Count",
         "type": "quantitative"
        }
       },
       "mark": "bar"
      },
      "image/png": "[encoded data removed]",
      "text/plain": [
       "<VegaLite 3 object>\n",
       "\n",
       "If you see this message, it means the renderer has not been properly enabled\n",
       "for the frontend that you are using. For more information, see\n",
       "https://altair-viz.github.io/user_guide/troubleshooting.html\n"
      ]
     },
     "execution_count": 11,
     "metadata": {},
     "output_type": "execute_result"
    }
   ],
   "source": [
    "chart = alt.Chart(type_df).mark_bar().encode(\n",
    "   column=alt.Column('Year'),\n",
    "   x=alt.X('Type', title=None),\n",
    "   y=alt.Y('Count'),\n",
    "   color=alt.Color('Type', scale=alt.Scale(range=['#08589e', '#bcbd22', 'purple'])))\n",
    "\n",
    "chart.properties(background='white')"
   ]
  },
  {
   "cell_type": "code",
   "execution_count": null,
   "metadata": {},
   "outputs": [],
   "source": []
  }
 ],
 "metadata": {
  "kernelspec": {
   "display_name": "Python 3",
   "language": "python",
   "name": "python3"
  },
  "language_info": {
   "codemirror_mode": {
    "name": "ipython",
    "version": 3
   },
   "file_extension": ".py",
   "mimetype": "text/x-python",
   "name": "python",
   "nbconvert_exporter": "python",
   "pygments_lexer": "ipython3",
   "version": "3.6.7"
  }
 },
 "nbformat": 4,
 "nbformat_minor": 4
}
