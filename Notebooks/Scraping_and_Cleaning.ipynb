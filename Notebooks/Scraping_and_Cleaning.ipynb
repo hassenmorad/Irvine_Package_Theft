{
 "cells": [
  {
   "cell_type": "markdown",
   "metadata": {},
   "source": [
    "Collecting & Cleaning Data:"
   ]
  },
  {
   "cell_type": "markdown",
   "metadata": {},
   "source": [
    "Create bar chart across 8 years plotting monthly totals of each crime (layered, so that the highest number is behind the middle and smallest number theft)"
   ]
  },
  {
   "cell_type": "markdown",
   "metadata": {},
   "source": [
    "*Remove API code"
   ]
  },
  {
   "cell_type": "code",
   "execution_count": 1,
   "metadata": {},
   "outputs": [],
   "source": [
    "import pandas as pd\n",
    "import numpy as np\n",
    "import googlemaps"
   ]
  },
  {
   "cell_type": "code",
   "execution_count": 2,
   "metadata": {},
   "outputs": [],
   "source": [
    "garage = pd.read_csv('Irvine Garage Burglary.csv')"
   ]
  },
  {
   "cell_type": "code",
   "execution_count": 3,
   "metadata": {},
   "outputs": [
    {
     "data": {
      "text/html": [
       "<div>\n",
       "<style scoped>\n",
       "    .dataframe tbody tr th:only-of-type {\n",
       "        vertical-align: middle;\n",
       "    }\n",
       "\n",
       "    .dataframe tbody tr th {\n",
       "        vertical-align: top;\n",
       "    }\n",
       "\n",
       "    .dataframe thead th {\n",
       "        text-align: right;\n",
       "    }\n",
       "</style>\n",
       "<table border=\"1\" class=\"dataframe\">\n",
       "  <thead>\n",
       "    <tr style=\"text-align: right;\">\n",
       "      <th></th>\n",
       "      <th>DR</th>\n",
       "      <th>Offense</th>\n",
       "      <th>Date_Rept</th>\n",
       "      <th>Monthstamp</th>\n",
       "      <th>Yearstamp</th>\n",
       "      <th>Block</th>\n",
       "    </tr>\n",
       "  </thead>\n",
       "  <tbody>\n",
       "    <tr>\n",
       "      <td>0</td>\n",
       "      <td>1100198</td>\n",
       "      <td>BURGLARY - RESIDENTIAL - GARAGE               ...</td>\n",
       "      <td>1/5/2011</td>\n",
       "      <td>1</td>\n",
       "      <td>2011</td>\n",
       "      <td>0 Blk REMINGTON                               ...</td>\n",
       "    </tr>\n",
       "  </tbody>\n",
       "</table>\n",
       "</div>"
      ],
      "text/plain": [
       "        DR                                            Offense Date_Rept  \\\n",
       "0  1100198  BURGLARY - RESIDENTIAL - GARAGE               ...  1/5/2011   \n",
       "\n",
       "   Monthstamp  Yearstamp                                              Block  \n",
       "0           1       2011  0 Blk REMINGTON                               ...  "
      ]
     },
     "execution_count": 3,
     "metadata": {},
     "output_type": "execute_result"
    }
   ],
   "source": [
    "garage.head(1)"
   ]
  },
  {
   "cell_type": "code",
   "execution_count": 4,
   "metadata": {},
   "outputs": [],
   "source": [
    "vehicle = pd.read_csv('Irvine Vehicle Theft.csv')"
   ]
  },
  {
   "cell_type": "code",
   "execution_count": 5,
   "metadata": {},
   "outputs": [
    {
     "data": {
      "text/html": [
       "<div>\n",
       "<style scoped>\n",
       "    .dataframe tbody tr th:only-of-type {\n",
       "        vertical-align: middle;\n",
       "    }\n",
       "\n",
       "    .dataframe tbody tr th {\n",
       "        vertical-align: top;\n",
       "    }\n",
       "\n",
       "    .dataframe thead th {\n",
       "        text-align: right;\n",
       "    }\n",
       "</style>\n",
       "<table border=\"1\" class=\"dataframe\">\n",
       "  <thead>\n",
       "    <tr style=\"text-align: right;\">\n",
       "      <th></th>\n",
       "      <th>DR</th>\n",
       "      <th>Offense</th>\n",
       "      <th>Date_Rept</th>\n",
       "      <th>Monthstamp</th>\n",
       "      <th>Yearstamp</th>\n",
       "      <th>Block</th>\n",
       "    </tr>\n",
       "  </thead>\n",
       "  <tbody>\n",
       "    <tr>\n",
       "      <td>0</td>\n",
       "      <td>1100034</td>\n",
       "      <td>THEFT - FROM MOTOR VEHICLE                    ...</td>\n",
       "      <td>1/1/2011</td>\n",
       "      <td>1</td>\n",
       "      <td>2011</td>\n",
       "      <td>CAPSTONE / RIVERSTONE                         ...</td>\n",
       "    </tr>\n",
       "  </tbody>\n",
       "</table>\n",
       "</div>"
      ],
      "text/plain": [
       "        DR                                            Offense Date_Rept  \\\n",
       "0  1100034  THEFT - FROM MOTOR VEHICLE                    ...  1/1/2011   \n",
       "\n",
       "   Monthstamp  Yearstamp                                              Block  \n",
       "0           1       2011  CAPSTONE / RIVERSTONE                         ...  "
      ]
     },
     "execution_count": 5,
     "metadata": {},
     "output_type": "execute_result"
    }
   ],
   "source": [
    "vehicle.head(1)"
   ]
  },
  {
   "cell_type": "code",
   "execution_count": 6,
   "metadata": {},
   "outputs": [],
   "source": [
    "package = pd.read_csv('Irvine Package Theft.csv')"
   ]
  },
  {
   "cell_type": "code",
   "execution_count": 7,
   "metadata": {},
   "outputs": [
    {
     "data": {
      "text/html": [
       "<div>\n",
       "<style scoped>\n",
       "    .dataframe tbody tr th:only-of-type {\n",
       "        vertical-align: middle;\n",
       "    }\n",
       "\n",
       "    .dataframe tbody tr th {\n",
       "        vertical-align: top;\n",
       "    }\n",
       "\n",
       "    .dataframe thead th {\n",
       "        text-align: right;\n",
       "    }\n",
       "</style>\n",
       "<table border=\"1\" class=\"dataframe\">\n",
       "  <thead>\n",
       "    <tr style=\"text-align: right;\">\n",
       "      <th></th>\n",
       "      <th>DR</th>\n",
       "      <th>Date_Rept</th>\n",
       "      <th>Monthstamp</th>\n",
       "      <th>Yearstamp</th>\n",
       "      <th>Block</th>\n",
       "    </tr>\n",
       "  </thead>\n",
       "  <tbody>\n",
       "    <tr>\n",
       "      <td>0</td>\n",
       "      <td>1607426</td>\n",
       "      <td>5/12/2016</td>\n",
       "      <td>5</td>\n",
       "      <td>2016</td>\n",
       "      <td>100 Blk ESPLANADE</td>\n",
       "    </tr>\n",
       "  </tbody>\n",
       "</table>\n",
       "</div>"
      ],
      "text/plain": [
       "        DR  Date_Rept  Monthstamp  Yearstamp              Block\n",
       "0  1607426  5/12/2016           5       2016  100 Blk ESPLANADE"
      ]
     },
     "execution_count": 7,
     "metadata": {},
     "output_type": "execute_result"
    }
   ],
   "source": [
    "package.head(1)"
   ]
  },
  {
   "cell_type": "code",
   "execution_count": 8,
   "metadata": {},
   "outputs": [],
   "source": [
    "# Removing so all files have identical columns\n",
    "garage = garage.drop('Offense', axis='columns')\n",
    "vehicle = vehicle.drop('Offense', axis='columns')"
   ]
  },
  {
   "cell_type": "code",
   "execution_count": 9,
   "metadata": {},
   "outputs": [
    {
     "data": {
      "text/html": [
       "<div>\n",
       "<style scoped>\n",
       "    .dataframe tbody tr th:only-of-type {\n",
       "        vertical-align: middle;\n",
       "    }\n",
       "\n",
       "    .dataframe tbody tr th {\n",
       "        vertical-align: top;\n",
       "    }\n",
       "\n",
       "    .dataframe thead th {\n",
       "        text-align: right;\n",
       "    }\n",
       "</style>\n",
       "<table border=\"1\" class=\"dataframe\">\n",
       "  <thead>\n",
       "    <tr style=\"text-align: right;\">\n",
       "      <th></th>\n",
       "      <th>DR</th>\n",
       "      <th>Date_Rept</th>\n",
       "      <th>Monthstamp</th>\n",
       "      <th>Yearstamp</th>\n",
       "      <th>Block</th>\n",
       "    </tr>\n",
       "  </thead>\n",
       "  <tbody>\n",
       "    <tr>\n",
       "      <td>0</td>\n",
       "      <td>1100198</td>\n",
       "      <td>1/5/2011</td>\n",
       "      <td>1</td>\n",
       "      <td>2011</td>\n",
       "      <td>0 Blk REMINGTON                               ...</td>\n",
       "    </tr>\n",
       "  </tbody>\n",
       "</table>\n",
       "</div>"
      ],
      "text/plain": [
       "        DR Date_Rept  Monthstamp  Yearstamp  \\\n",
       "0  1100198  1/5/2011           1       2011   \n",
       "\n",
       "                                               Block  \n",
       "0  0 Blk REMINGTON                               ...  "
      ]
     },
     "execution_count": 9,
     "metadata": {},
     "output_type": "execute_result"
    }
   ],
   "source": [
    "garage.head(1)"
   ]
  },
  {
   "cell_type": "code",
   "execution_count": 10,
   "metadata": {},
   "outputs": [
    {
     "data": {
      "text/html": [
       "<div>\n",
       "<style scoped>\n",
       "    .dataframe tbody tr th:only-of-type {\n",
       "        vertical-align: middle;\n",
       "    }\n",
       "\n",
       "    .dataframe tbody tr th {\n",
       "        vertical-align: top;\n",
       "    }\n",
       "\n",
       "    .dataframe thead th {\n",
       "        text-align: right;\n",
       "    }\n",
       "</style>\n",
       "<table border=\"1\" class=\"dataframe\">\n",
       "  <thead>\n",
       "    <tr style=\"text-align: right;\">\n",
       "      <th></th>\n",
       "      <th>DR</th>\n",
       "      <th>Date_Rept</th>\n",
       "      <th>Monthstamp</th>\n",
       "      <th>Yearstamp</th>\n",
       "      <th>Block</th>\n",
       "    </tr>\n",
       "  </thead>\n",
       "  <tbody>\n",
       "    <tr>\n",
       "      <td>0</td>\n",
       "      <td>1100034</td>\n",
       "      <td>1/1/2011</td>\n",
       "      <td>1</td>\n",
       "      <td>2011</td>\n",
       "      <td>CAPSTONE / RIVERSTONE                         ...</td>\n",
       "    </tr>\n",
       "  </tbody>\n",
       "</table>\n",
       "</div>"
      ],
      "text/plain": [
       "        DR Date_Rept  Monthstamp  Yearstamp  \\\n",
       "0  1100034  1/1/2011           1       2011   \n",
       "\n",
       "                                               Block  \n",
       "0  CAPSTONE / RIVERSTONE                         ...  "
      ]
     },
     "execution_count": 10,
     "metadata": {},
     "output_type": "execute_result"
    }
   ],
   "source": [
    "vehicle.head(1)"
   ]
  },
  {
   "cell_type": "markdown",
   "metadata": {},
   "source": [
    "---"
   ]
  },
  {
   "cell_type": "markdown",
   "metadata": {},
   "source": [
    "#### Adding 'Type' Column :\n",
    "(so rows are distinguishable when files are joined)"
   ]
  },
  {
   "cell_type": "code",
   "execution_count": 11,
   "metadata": {},
   "outputs": [],
   "source": [
    "files = [garage, vehicle, package]"
   ]
  },
  {
   "cell_type": "code",
   "execution_count": 12,
   "metadata": {},
   "outputs": [],
   "source": [
    "file_strings = ['Garage', 'Vehicle', 'Package']\n",
    "counter = 0\n",
    "for file in files:\n",
    "    type_col = np.full(len(file), file_strings[counter])\n",
    "    file['Type'] = type_col\n",
    "    counter += 1"
   ]
  },
  {
   "cell_type": "code",
   "execution_count": 13,
   "metadata": {},
   "outputs": [],
   "source": [
    "combined = pd.concat([garage, vehicle, package])"
   ]
  },
  {
   "cell_type": "code",
   "execution_count": 14,
   "metadata": {},
   "outputs": [],
   "source": [
    "combined.Date_Rept = pd.to_datetime(combined.Date_Rept)"
   ]
  },
  {
   "cell_type": "code",
   "execution_count": 15,
   "metadata": {},
   "outputs": [],
   "source": [
    "combined = combined.sort_values('Date_Rept').reset_index(drop=True)"
   ]
  },
  {
   "cell_type": "code",
   "execution_count": 16,
   "metadata": {},
   "outputs": [],
   "source": [
    "combined['Week_Num'] = combined.Date_Rept.dt.week"
   ]
  },
  {
   "cell_type": "code",
   "execution_count": 17,
   "metadata": {},
   "outputs": [],
   "source": [
    "# To reveal all data in each cell (instead of cutting off at default max character length)\n",
    "pd.set_option('display.max_colwidth', -1)"
   ]
  },
  {
   "cell_type": "code",
   "execution_count": 18,
   "metadata": {},
   "outputs": [
    {
     "data": {
      "text/html": [
       "<div>\n",
       "<style scoped>\n",
       "    .dataframe tbody tr th:only-of-type {\n",
       "        vertical-align: middle;\n",
       "    }\n",
       "\n",
       "    .dataframe tbody tr th {\n",
       "        vertical-align: top;\n",
       "    }\n",
       "\n",
       "    .dataframe thead th {\n",
       "        text-align: right;\n",
       "    }\n",
       "</style>\n",
       "<table border=\"1\" class=\"dataframe\">\n",
       "  <thead>\n",
       "    <tr style=\"text-align: right;\">\n",
       "      <th></th>\n",
       "      <th>DR</th>\n",
       "      <th>Date_Rept</th>\n",
       "      <th>Monthstamp</th>\n",
       "      <th>Yearstamp</th>\n",
       "      <th>Block</th>\n",
       "      <th>Type</th>\n",
       "      <th>Week_Num</th>\n",
       "    </tr>\n",
       "  </thead>\n",
       "  <tbody>\n",
       "    <tr>\n",
       "      <td>0</td>\n",
       "      <td>1100034</td>\n",
       "      <td>2011-01-01</td>\n",
       "      <td>1</td>\n",
       "      <td>2011</td>\n",
       "      <td>CAPSTONE / RIVERSTONE</td>\n",
       "      <td>Vehicle</td>\n",
       "      <td>52</td>\n",
       "    </tr>\n",
       "    <tr>\n",
       "      <td>1</td>\n",
       "      <td>1100051</td>\n",
       "      <td>2011-01-02</td>\n",
       "      <td>1</td>\n",
       "      <td>2011</td>\n",
       "      <td>14800 Blk GAINFORD CIR</td>\n",
       "      <td>Vehicle</td>\n",
       "      <td>52</td>\n",
       "    </tr>\n",
       "    <tr>\n",
       "      <td>2</td>\n",
       "      <td>1100108</td>\n",
       "      <td>2011-01-04</td>\n",
       "      <td>1</td>\n",
       "      <td>2011</td>\n",
       "      <td>100 Blk SAINT VINCENT</td>\n",
       "      <td>Vehicle</td>\n",
       "      <td>1</td>\n",
       "    </tr>\n",
       "    <tr>\n",
       "      <td>3</td>\n",
       "      <td>1100198</td>\n",
       "      <td>2011-01-05</td>\n",
       "      <td>1</td>\n",
       "      <td>2011</td>\n",
       "      <td>0 Blk REMINGTON</td>\n",
       "      <td>Garage</td>\n",
       "      <td>1</td>\n",
       "    </tr>\n",
       "    <tr>\n",
       "      <td>4</td>\n",
       "      <td>1100212</td>\n",
       "      <td>2011-01-05</td>\n",
       "      <td>1</td>\n",
       "      <td>2011</td>\n",
       "      <td>2800 Blk ALTON PKWY</td>\n",
       "      <td>Vehicle</td>\n",
       "      <td>1</td>\n",
       "    </tr>\n",
       "  </tbody>\n",
       "</table>\n",
       "</div>"
      ],
      "text/plain": [
       "        DR  Date_Rept  Monthstamp  Yearstamp  \\\n",
       "0  1100034 2011-01-01  1           2011        \n",
       "1  1100051 2011-01-02  1           2011        \n",
       "2  1100108 2011-01-04  1           2011        \n",
       "3  1100198 2011-01-05  1           2011        \n",
       "4  1100212 2011-01-05  1           2011        \n",
       "\n",
       "                                                                                        Block  \\\n",
       "0  CAPSTONE / RIVERSTONE                                                                        \n",
       "1  14800 Blk GAINFORD CIR                                                                       \n",
       "2  100 Blk SAINT VINCENT                                                                        \n",
       "3  0 Blk REMINGTON                                                                              \n",
       "4  2800 Blk ALTON PKWY                                                                          \n",
       "\n",
       "      Type  Week_Num  \n",
       "0  Vehicle  52        \n",
       "1  Vehicle  52        \n",
       "2  Vehicle  1         \n",
       "3  Garage   1         \n",
       "4  Vehicle  1         "
      ]
     },
     "execution_count": 18,
     "metadata": {},
     "output_type": "execute_result"
    }
   ],
   "source": [
    "combined.head()"
   ]
  },
  {
   "cell_type": "code",
   "execution_count": 19,
   "metadata": {},
   "outputs": [],
   "source": [
    "combined.loc[((combined.Monthstamp == 1) & (combined.Week_Num > 51)), 'Week_Num'] = 1"
   ]
  },
  {
   "cell_type": "code",
   "execution_count": 20,
   "metadata": {},
   "outputs": [
    {
     "data": {
      "text/html": [
       "<div>\n",
       "<style scoped>\n",
       "    .dataframe tbody tr th:only-of-type {\n",
       "        vertical-align: middle;\n",
       "    }\n",
       "\n",
       "    .dataframe tbody tr th {\n",
       "        vertical-align: top;\n",
       "    }\n",
       "\n",
       "    .dataframe thead th {\n",
       "        text-align: right;\n",
       "    }\n",
       "</style>\n",
       "<table border=\"1\" class=\"dataframe\">\n",
       "  <thead>\n",
       "    <tr style=\"text-align: right;\">\n",
       "      <th></th>\n",
       "      <th>DR</th>\n",
       "      <th>Date_Rept</th>\n",
       "      <th>Monthstamp</th>\n",
       "      <th>Yearstamp</th>\n",
       "      <th>Block</th>\n",
       "      <th>Type</th>\n",
       "      <th>Week_Num</th>\n",
       "    </tr>\n",
       "  </thead>\n",
       "  <tbody>\n",
       "    <tr>\n",
       "      <td>0</td>\n",
       "      <td>1100034</td>\n",
       "      <td>2011-01-01</td>\n",
       "      <td>1</td>\n",
       "      <td>2011</td>\n",
       "      <td>CAPSTONE / RIVERSTONE</td>\n",
       "      <td>Vehicle</td>\n",
       "      <td>1</td>\n",
       "    </tr>\n",
       "    <tr>\n",
       "      <td>1</td>\n",
       "      <td>1100051</td>\n",
       "      <td>2011-01-02</td>\n",
       "      <td>1</td>\n",
       "      <td>2011</td>\n",
       "      <td>14800 Blk GAINFORD CIR</td>\n",
       "      <td>Vehicle</td>\n",
       "      <td>1</td>\n",
       "    </tr>\n",
       "    <tr>\n",
       "      <td>2</td>\n",
       "      <td>1100108</td>\n",
       "      <td>2011-01-04</td>\n",
       "      <td>1</td>\n",
       "      <td>2011</td>\n",
       "      <td>100 Blk SAINT VINCENT</td>\n",
       "      <td>Vehicle</td>\n",
       "      <td>1</td>\n",
       "    </tr>\n",
       "    <tr>\n",
       "      <td>3</td>\n",
       "      <td>1100198</td>\n",
       "      <td>2011-01-05</td>\n",
       "      <td>1</td>\n",
       "      <td>2011</td>\n",
       "      <td>0 Blk REMINGTON</td>\n",
       "      <td>Garage</td>\n",
       "      <td>1</td>\n",
       "    </tr>\n",
       "    <tr>\n",
       "      <td>4</td>\n",
       "      <td>1100212</td>\n",
       "      <td>2011-01-05</td>\n",
       "      <td>1</td>\n",
       "      <td>2011</td>\n",
       "      <td>2800 Blk ALTON PKWY</td>\n",
       "      <td>Vehicle</td>\n",
       "      <td>1</td>\n",
       "    </tr>\n",
       "  </tbody>\n",
       "</table>\n",
       "</div>"
      ],
      "text/plain": [
       "        DR  Date_Rept  Monthstamp  Yearstamp  \\\n",
       "0  1100034 2011-01-01  1           2011        \n",
       "1  1100051 2011-01-02  1           2011        \n",
       "2  1100108 2011-01-04  1           2011        \n",
       "3  1100198 2011-01-05  1           2011        \n",
       "4  1100212 2011-01-05  1           2011        \n",
       "\n",
       "                                                                                        Block  \\\n",
       "0  CAPSTONE / RIVERSTONE                                                                        \n",
       "1  14800 Blk GAINFORD CIR                                                                       \n",
       "2  100 Blk SAINT VINCENT                                                                        \n",
       "3  0 Blk REMINGTON                                                                              \n",
       "4  2800 Blk ALTON PKWY                                                                          \n",
       "\n",
       "      Type  Week_Num  \n",
       "0  Vehicle  1         \n",
       "1  Vehicle  1         \n",
       "2  Vehicle  1         \n",
       "3  Garage   1         \n",
       "4  Vehicle  1         "
      ]
     },
     "execution_count": 20,
     "metadata": {},
     "output_type": "execute_result"
    }
   ],
   "source": [
    "combined.head()"
   ]
  },
  {
   "cell_type": "code",
   "execution_count": 21,
   "metadata": {},
   "outputs": [],
   "source": [
    "combined = combined.rename({'Date_Rept':'Date', 'Monthstamp':'Month', 'Yearstamp':'Year'}, axis=1)"
   ]
  },
  {
   "cell_type": "code",
   "execution_count": 22,
   "metadata": {},
   "outputs": [
    {
     "data": {
      "text/html": [
       "<div>\n",
       "<style scoped>\n",
       "    .dataframe tbody tr th:only-of-type {\n",
       "        vertical-align: middle;\n",
       "    }\n",
       "\n",
       "    .dataframe tbody tr th {\n",
       "        vertical-align: top;\n",
       "    }\n",
       "\n",
       "    .dataframe thead th {\n",
       "        text-align: right;\n",
       "    }\n",
       "</style>\n",
       "<table border=\"1\" class=\"dataframe\">\n",
       "  <thead>\n",
       "    <tr style=\"text-align: right;\">\n",
       "      <th></th>\n",
       "      <th>DR</th>\n",
       "      <th>Date</th>\n",
       "      <th>Month</th>\n",
       "      <th>Year</th>\n",
       "      <th>Block</th>\n",
       "      <th>Type</th>\n",
       "      <th>Week_Num</th>\n",
       "    </tr>\n",
       "  </thead>\n",
       "  <tbody>\n",
       "    <tr>\n",
       "      <td>6385</td>\n",
       "      <td>1907102</td>\n",
       "      <td>2019-05-28</td>\n",
       "      <td>5</td>\n",
       "      <td>2019</td>\n",
       "      <td>1400 Blk PENDIO</td>\n",
       "      <td>Garage</td>\n",
       "      <td>22</td>\n",
       "    </tr>\n",
       "    <tr>\n",
       "      <td>6386</td>\n",
       "      <td>1907155</td>\n",
       "      <td>2019-05-29</td>\n",
       "      <td>5</td>\n",
       "      <td>2019</td>\n",
       "      <td>100 Blk RINALDI</td>\n",
       "      <td>Vehicle</td>\n",
       "      <td>22</td>\n",
       "    </tr>\n",
       "    <tr>\n",
       "      <td>6387</td>\n",
       "      <td>1907159</td>\n",
       "      <td>2019-05-29</td>\n",
       "      <td>5</td>\n",
       "      <td>2019</td>\n",
       "      <td>0 Blk PLANTATION</td>\n",
       "      <td>Vehicle</td>\n",
       "      <td>22</td>\n",
       "    </tr>\n",
       "    <tr>\n",
       "      <td>6388</td>\n",
       "      <td>1907231</td>\n",
       "      <td>2019-05-30</td>\n",
       "      <td>5</td>\n",
       "      <td>2019</td>\n",
       "      <td>400 Blk ROCKEFELLER</td>\n",
       "      <td>Vehicle</td>\n",
       "      <td>22</td>\n",
       "    </tr>\n",
       "    <tr>\n",
       "      <td>6389</td>\n",
       "      <td>1907311</td>\n",
       "      <td>2019-05-31</td>\n",
       "      <td>5</td>\n",
       "      <td>2019</td>\n",
       "      <td>0 Blk OAK TREE LN</td>\n",
       "      <td>Vehicle</td>\n",
       "      <td>22</td>\n",
       "    </tr>\n",
       "  </tbody>\n",
       "</table>\n",
       "</div>"
      ],
      "text/plain": [
       "           DR       Date  Month  Year  \\\n",
       "6385  1907102 2019-05-28  5      2019   \n",
       "6386  1907155 2019-05-29  5      2019   \n",
       "6387  1907159 2019-05-29  5      2019   \n",
       "6388  1907231 2019-05-30  5      2019   \n",
       "6389  1907311 2019-05-31  5      2019   \n",
       "\n",
       "                                                                                          Block  \\\n",
       "6385  1400 Blk PENDIO                                                                             \n",
       "6386  100 Blk RINALDI                                                                             \n",
       "6387  0 Blk PLANTATION                                                                            \n",
       "6388  400 Blk ROCKEFELLER                                                                         \n",
       "6389  0 Blk OAK TREE LN                                                                           \n",
       "\n",
       "         Type  Week_Num  \n",
       "6385  Garage   22        \n",
       "6386  Vehicle  22        \n",
       "6387  Vehicle  22        \n",
       "6388  Vehicle  22        \n",
       "6389  Vehicle  22        "
      ]
     },
     "execution_count": 22,
     "metadata": {},
     "output_type": "execute_result"
    }
   ],
   "source": [
    "combined.tail()"
   ]
  },
  {
   "cell_type": "markdown",
   "metadata": {},
   "source": [
    "---"
   ]
  },
  {
   "cell_type": "code",
   "execution_count": 23,
   "metadata": {},
   "outputs": [
    {
     "data": {
      "text/plain": [
       "2019    431\n",
       "2018    985\n",
       "2017    880\n",
       "2016    915\n",
       "2015    915\n",
       "2014    493\n",
       "2013    556\n",
       "2012    619\n",
       "2011    596\n",
       "Name: Year, dtype: int64"
      ]
     },
     "execution_count": 23,
     "metadata": {},
     "output_type": "execute_result"
    }
   ],
   "source": [
    "combined.Year.value_counts().sort_index(ascending=False)"
   ]
  },
  {
   "cell_type": "markdown",
   "metadata": {},
   "source": [
    "---"
   ]
  },
  {
   "cell_type": "code",
   "execution_count": 24,
   "metadata": {},
   "outputs": [
    {
     "data": {
      "text/html": [
       "<div>\n",
       "<style scoped>\n",
       "    .dataframe tbody tr th:only-of-type {\n",
       "        vertical-align: middle;\n",
       "    }\n",
       "\n",
       "    .dataframe tbody tr th {\n",
       "        vertical-align: top;\n",
       "    }\n",
       "\n",
       "    .dataframe thead th {\n",
       "        text-align: right;\n",
       "    }\n",
       "</style>\n",
       "<table border=\"1\" class=\"dataframe\">\n",
       "  <thead>\n",
       "    <tr style=\"text-align: right;\">\n",
       "      <th></th>\n",
       "      <th>0</th>\n",
       "    </tr>\n",
       "  </thead>\n",
       "  <tbody>\n",
       "    <tr>\n",
       "      <td>0</td>\n",
       "      <td>0</td>\n",
       "    </tr>\n",
       "    <tr>\n",
       "      <td>1</td>\n",
       "      <td>14800</td>\n",
       "    </tr>\n",
       "    <tr>\n",
       "      <td>2</td>\n",
       "      <td>100</td>\n",
       "    </tr>\n",
       "    <tr>\n",
       "      <td>3</td>\n",
       "      <td>0</td>\n",
       "    </tr>\n",
       "    <tr>\n",
       "      <td>4</td>\n",
       "      <td>2800</td>\n",
       "    </tr>\n",
       "  </tbody>\n",
       "</table>\n",
       "</div>"
      ],
      "text/plain": [
       "       0\n",
       "0  0    \n",
       "1  14800\n",
       "2  100  \n",
       "3  0    \n",
       "4  2800 "
      ]
     },
     "execution_count": 24,
     "metadata": {},
     "output_type": "execute_result"
    }
   ],
   "source": [
    "# Address Number only\n",
    "combined.Block.str.extract('(\\d+)').fillna(0).head()"
   ]
  },
  {
   "cell_type": "code",
   "execution_count": 25,
   "metadata": {},
   "outputs": [],
   "source": [
    "combined['Number'] = combined.Block.str.extract('(\\d+)').fillna(0).astype(str)"
   ]
  },
  {
   "cell_type": "code",
   "execution_count": 26,
   "metadata": {},
   "outputs": [
    {
     "data": {
      "text/html": [
       "<div>\n",
       "<style scoped>\n",
       "    .dataframe tbody tr th:only-of-type {\n",
       "        vertical-align: middle;\n",
       "    }\n",
       "\n",
       "    .dataframe tbody tr th {\n",
       "        vertical-align: top;\n",
       "    }\n",
       "\n",
       "    .dataframe thead th {\n",
       "        text-align: right;\n",
       "    }\n",
       "</style>\n",
       "<table border=\"1\" class=\"dataframe\">\n",
       "  <thead>\n",
       "    <tr style=\"text-align: right;\">\n",
       "      <th></th>\n",
       "      <th>0</th>\n",
       "    </tr>\n",
       "  </thead>\n",
       "  <tbody>\n",
       "    <tr>\n",
       "      <td>0</td>\n",
       "      <td>CAPSTONE / RIVERSTONE</td>\n",
       "    </tr>\n",
       "    <tr>\n",
       "      <td>1</td>\n",
       "      <td>Blk GAINFORD CIR</td>\n",
       "    </tr>\n",
       "    <tr>\n",
       "      <td>2</td>\n",
       "      <td>Blk SAINT VINCENT</td>\n",
       "    </tr>\n",
       "    <tr>\n",
       "      <td>3</td>\n",
       "      <td>Blk REMINGTON</td>\n",
       "    </tr>\n",
       "    <tr>\n",
       "      <td>4</td>\n",
       "      <td>Blk ALTON PKWY</td>\n",
       "    </tr>\n",
       "  </tbody>\n",
       "</table>\n",
       "</div>"
      ],
      "text/plain": [
       "                                                                                       0\n",
       "0  CAPSTONE / RIVERSTONE                                                                \n",
       "1   Blk GAINFORD CIR                                                                    \n",
       "2   Blk SAINT VINCENT                                                                   \n",
       "3   Blk REMINGTON                                                                       \n",
       "4   Blk ALTON PKWY                                                                      "
      ]
     },
     "execution_count": 26,
     "metadata": {},
     "output_type": "execute_result"
    }
   ],
   "source": [
    "# Street name only\n",
    "combined.Block.str.extract('([^\\d+]+)').head()"
   ]
  },
  {
   "cell_type": "code",
   "execution_count": 27,
   "metadata": {},
   "outputs": [
    {
     "data": {
      "text/plain": [
       "'CAPSTONE / RIVERSTONE                                                           '"
      ]
     },
     "execution_count": 27,
     "metadata": {},
     "output_type": "execute_result"
    }
   ],
   "source": [
    "# First object in series (instead of df- via \"expand=False\")\n",
    "combined.Block.str.extract('([^\\d+]+)', expand=False)[0]"
   ]
  },
  {
   "cell_type": "code",
   "execution_count": 28,
   "metadata": {},
   "outputs": [
    {
     "data": {
      "text/plain": [
       "' Blk GAINFORD CIR                                                                    '"
      ]
     },
     "execution_count": 28,
     "metadata": {},
     "output_type": "execute_result"
    }
   ],
   "source": [
    "combined.Block.str.extract('([^\\d+]+)', expand=False)[1]"
   ]
  },
  {
   "cell_type": "code",
   "execution_count": 29,
   "metadata": {},
   "outputs": [],
   "source": [
    "street_name = combined.Block.str.extract('([^\\d+]+)', expand=False)"
   ]
  },
  {
   "cell_type": "code",
   "execution_count": 30,
   "metadata": {},
   "outputs": [
    {
     "data": {
      "text/plain": [
       "'CAPSTONE / RIVERSTONE                                                           '"
      ]
     },
     "execution_count": 30,
     "metadata": {},
     "output_type": "execute_result"
    }
   ],
   "source": [
    "street_name[0]"
   ]
  },
  {
   "cell_type": "code",
   "execution_count": 31,
   "metadata": {},
   "outputs": [
    {
     "data": {
      "text/plain": [
       "' Blk GAINFORD CIR                                                                    '"
      ]
     },
     "execution_count": 31,
     "metadata": {},
     "output_type": "execute_result"
    }
   ],
   "source": [
    "street_name[1]"
   ]
  },
  {
   "cell_type": "code",
   "execution_count": 32,
   "metadata": {},
   "outputs": [],
   "source": [
    "# Removing whitespance & ' Blk'\n",
    "combined['Street'] = [address.strip()[4:] if address[:4] == ' Blk' else address.strip() for address in street_name]"
   ]
  },
  {
   "cell_type": "code",
   "execution_count": 33,
   "metadata": {},
   "outputs": [
    {
     "data": {
      "text/plain": [
       "'GAINFORD CIR'"
      ]
     },
     "execution_count": 33,
     "metadata": {},
     "output_type": "execute_result"
    }
   ],
   "source": [
    "combined['Street'][1]"
   ]
  },
  {
   "cell_type": "markdown",
   "metadata": {},
   "source": [
    "---"
   ]
  },
  {
   "cell_type": "code",
   "execution_count": 34,
   "metadata": {},
   "outputs": [],
   "source": [
    "combined['Address'] = combined.Number + ' ' + combined.Street + ', Irvine, CA'"
   ]
  },
  {
   "cell_type": "code",
   "execution_count": 35,
   "metadata": {},
   "outputs": [
    {
     "data": {
      "text/html": [
       "<div>\n",
       "<style scoped>\n",
       "    .dataframe tbody tr th:only-of-type {\n",
       "        vertical-align: middle;\n",
       "    }\n",
       "\n",
       "    .dataframe tbody tr th {\n",
       "        vertical-align: top;\n",
       "    }\n",
       "\n",
       "    .dataframe thead th {\n",
       "        text-align: right;\n",
       "    }\n",
       "</style>\n",
       "<table border=\"1\" class=\"dataframe\">\n",
       "  <thead>\n",
       "    <tr style=\"text-align: right;\">\n",
       "      <th></th>\n",
       "      <th>DR</th>\n",
       "      <th>Date</th>\n",
       "      <th>Month</th>\n",
       "      <th>Year</th>\n",
       "      <th>Block</th>\n",
       "      <th>Type</th>\n",
       "      <th>Week_Num</th>\n",
       "      <th>Number</th>\n",
       "      <th>Street</th>\n",
       "      <th>Address</th>\n",
       "    </tr>\n",
       "  </thead>\n",
       "  <tbody>\n",
       "    <tr>\n",
       "      <td>0</td>\n",
       "      <td>1100034</td>\n",
       "      <td>2011-01-01</td>\n",
       "      <td>1</td>\n",
       "      <td>2011</td>\n",
       "      <td>CAPSTONE / RIVERSTONE</td>\n",
       "      <td>Vehicle</td>\n",
       "      <td>1</td>\n",
       "      <td>0</td>\n",
       "      <td>CAPSTONE / RIVERSTONE</td>\n",
       "      <td>0 CAPSTONE / RIVERSTONE, Irvine, CA</td>\n",
       "    </tr>\n",
       "    <tr>\n",
       "      <td>1</td>\n",
       "      <td>1100051</td>\n",
       "      <td>2011-01-02</td>\n",
       "      <td>1</td>\n",
       "      <td>2011</td>\n",
       "      <td>14800 Blk GAINFORD CIR</td>\n",
       "      <td>Vehicle</td>\n",
       "      <td>1</td>\n",
       "      <td>14800</td>\n",
       "      <td>GAINFORD CIR</td>\n",
       "      <td>14800 GAINFORD CIR, Irvine, CA</td>\n",
       "    </tr>\n",
       "    <tr>\n",
       "      <td>2</td>\n",
       "      <td>1100108</td>\n",
       "      <td>2011-01-04</td>\n",
       "      <td>1</td>\n",
       "      <td>2011</td>\n",
       "      <td>100 Blk SAINT VINCENT</td>\n",
       "      <td>Vehicle</td>\n",
       "      <td>1</td>\n",
       "      <td>100</td>\n",
       "      <td>SAINT VINCENT</td>\n",
       "      <td>100 SAINT VINCENT, Irvine, CA</td>\n",
       "    </tr>\n",
       "    <tr>\n",
       "      <td>3</td>\n",
       "      <td>1100198</td>\n",
       "      <td>2011-01-05</td>\n",
       "      <td>1</td>\n",
       "      <td>2011</td>\n",
       "      <td>0 Blk REMINGTON</td>\n",
       "      <td>Garage</td>\n",
       "      <td>1</td>\n",
       "      <td>0</td>\n",
       "      <td>REMINGTON</td>\n",
       "      <td>0 REMINGTON, Irvine, CA</td>\n",
       "    </tr>\n",
       "    <tr>\n",
       "      <td>4</td>\n",
       "      <td>1100212</td>\n",
       "      <td>2011-01-05</td>\n",
       "      <td>1</td>\n",
       "      <td>2011</td>\n",
       "      <td>2800 Blk ALTON PKWY</td>\n",
       "      <td>Vehicle</td>\n",
       "      <td>1</td>\n",
       "      <td>2800</td>\n",
       "      <td>ALTON PKWY</td>\n",
       "      <td>2800 ALTON PKWY, Irvine, CA</td>\n",
       "    </tr>\n",
       "  </tbody>\n",
       "</table>\n",
       "</div>"
      ],
      "text/plain": [
       "        DR       Date  Month  Year  \\\n",
       "0  1100034 2011-01-01  1      2011   \n",
       "1  1100051 2011-01-02  1      2011   \n",
       "2  1100108 2011-01-04  1      2011   \n",
       "3  1100198 2011-01-05  1      2011   \n",
       "4  1100212 2011-01-05  1      2011   \n",
       "\n",
       "                                                                                        Block  \\\n",
       "0  CAPSTONE / RIVERSTONE                                                                        \n",
       "1  14800 Blk GAINFORD CIR                                                                       \n",
       "2  100 Blk SAINT VINCENT                                                                        \n",
       "3  0 Blk REMINGTON                                                                              \n",
       "4  2800 Blk ALTON PKWY                                                                          \n",
       "\n",
       "      Type  Week_Num Number                 Street  \\\n",
       "0  Vehicle  1         0      CAPSTONE / RIVERSTONE   \n",
       "1  Vehicle  1         14800  GAINFORD CIR            \n",
       "2  Vehicle  1         100    SAINT VINCENT           \n",
       "3  Garage   1         0      REMINGTON               \n",
       "4  Vehicle  1         2800   ALTON PKWY              \n",
       "\n",
       "                               Address  \n",
       "0  0 CAPSTONE / RIVERSTONE, Irvine, CA  \n",
       "1  14800 GAINFORD CIR, Irvine, CA       \n",
       "2  100 SAINT VINCENT, Irvine, CA        \n",
       "3  0 REMINGTON, Irvine, CA              \n",
       "4  2800 ALTON PKWY, Irvine, CA          "
      ]
     },
     "execution_count": 35,
     "metadata": {},
     "output_type": "execute_result"
    }
   ],
   "source": [
    "combined.head()"
   ]
  },
  {
   "cell_type": "markdown",
   "metadata": {},
   "source": [
    "*Google maps seems to accurately identify addresses w/ current column format (e.g. slashes, missing numbers); I will probably only have to correct for misspellings"
   ]
  },
  {
   "cell_type": "markdown",
   "metadata": {},
   "source": [
    "---"
   ]
  },
  {
   "cell_type": "markdown",
   "metadata": {},
   "source": [
    "Package Theft Addresses:"
   ]
  },
  {
   "cell_type": "code",
   "execution_count": 36,
   "metadata": {},
   "outputs": [],
   "source": [
    "API_KEY = (Hidden)"
   ]
  },
  {
   "cell_type": "code",
   "execution_count": 37,
   "metadata": {},
   "outputs": [],
   "source": [
    "googmap = googlemaps.Client(key=API_KEY)"
   ]
  },
  {
   "cell_type": "code",
   "execution_count": 38,
   "metadata": {},
   "outputs": [],
   "source": [
    "# Took about 45 minutes to complete\n",
    "lats = []\n",
    "lons = []\n",
    "\n",
    "for address in combined.Address:\n",
    "    geocode = googmap.geocode(address)\n",
    "    try:\n",
    "        lats.append(float(geocode[0]['geometry']['location']['lat']))\n",
    "        lons.append(float(geocode[0]['geometry']['location']['lng']))\n",
    "    except:\n",
    "        lats.append(None)\n",
    "        lons.append(None)"
   ]
  },
  {
   "cell_type": "code",
   "execution_count": 39,
   "metadata": {},
   "outputs": [
    {
     "data": {
      "text/plain": [
       "6390"
      ]
     },
     "execution_count": 39,
     "metadata": {},
     "output_type": "execute_result"
    }
   ],
   "source": [
    "len(lats)"
   ]
  },
  {
   "cell_type": "code",
   "execution_count": 40,
   "metadata": {},
   "outputs": [],
   "source": [
    "combined['Lat'] = lats\n",
    "combined['Lon'] = lons"
   ]
  },
  {
   "cell_type": "code",
   "execution_count": 41,
   "metadata": {},
   "outputs": [
    {
     "data": {
      "text/html": [
       "<div>\n",
       "<style scoped>\n",
       "    .dataframe tbody tr th:only-of-type {\n",
       "        vertical-align: middle;\n",
       "    }\n",
       "\n",
       "    .dataframe tbody tr th {\n",
       "        vertical-align: top;\n",
       "    }\n",
       "\n",
       "    .dataframe thead th {\n",
       "        text-align: right;\n",
       "    }\n",
       "</style>\n",
       "<table border=\"1\" class=\"dataframe\">\n",
       "  <thead>\n",
       "    <tr style=\"text-align: right;\">\n",
       "      <th></th>\n",
       "      <th>DR</th>\n",
       "      <th>Date</th>\n",
       "      <th>Month</th>\n",
       "      <th>Year</th>\n",
       "      <th>Block</th>\n",
       "      <th>Type</th>\n",
       "      <th>Week_Num</th>\n",
       "      <th>Number</th>\n",
       "      <th>Street</th>\n",
       "      <th>Address</th>\n",
       "      <th>Lat</th>\n",
       "      <th>Lon</th>\n",
       "    </tr>\n",
       "  </thead>\n",
       "  <tbody>\n",
       "    <tr>\n",
       "      <th>0</th>\n",
       "      <td>1100034</td>\n",
       "      <td>2011-01-01</td>\n",
       "      <td>1</td>\n",
       "      <td>2011</td>\n",
       "      <td>CAPSTONE / RIVERSTONE</td>\n",
       "      <td>vehicle</td>\n",
       "      <td>1</td>\n",
       "      <td>0</td>\n",
       "      <td>CAPSTONE / RIVERSTONE</td>\n",
       "      <td>0 CAPSTONE / RIVERSTONE, Irvine, CA</td>\n",
       "      <td>33.700425</td>\n",
       "      <td>-117.796927</td>\n",
       "    </tr>\n",
       "    <tr>\n",
       "      <th>1</th>\n",
       "      <td>1100051</td>\n",
       "      <td>2011-01-02</td>\n",
       "      <td>1</td>\n",
       "      <td>2011</td>\n",
       "      <td>14800 Blk GAINFORD CIR</td>\n",
       "      <td>vehicle</td>\n",
       "      <td>1</td>\n",
       "      <td>14800</td>\n",
       "      <td>GAINFORD CIR</td>\n",
       "      <td>14800 GAINFORD CIR, Irvine, CA</td>\n",
       "      <td>33.694986</td>\n",
       "      <td>-117.783549</td>\n",
       "    </tr>\n",
       "    <tr>\n",
       "      <th>2</th>\n",
       "      <td>1100108</td>\n",
       "      <td>2011-01-04</td>\n",
       "      <td>1</td>\n",
       "      <td>2011</td>\n",
       "      <td>100 Blk SAINT VINCENT</td>\n",
       "      <td>vehicle</td>\n",
       "      <td>1</td>\n",
       "      <td>100</td>\n",
       "      <td>SAINT VINCENT</td>\n",
       "      <td>100 SAINT VINCENT, Irvine, CA</td>\n",
       "      <td>33.666169</td>\n",
       "      <td>-117.789836</td>\n",
       "    </tr>\n",
       "    <tr>\n",
       "      <th>3</th>\n",
       "      <td>1100198</td>\n",
       "      <td>2011-01-05</td>\n",
       "      <td>1</td>\n",
       "      <td>2011</td>\n",
       "      <td>0 Blk REMINGTON</td>\n",
       "      <td>garage</td>\n",
       "      <td>1</td>\n",
       "      <td>0</td>\n",
       "      <td>REMINGTON</td>\n",
       "      <td>0 REMINGTON, Irvine, CA</td>\n",
       "      <td>33.700298</td>\n",
       "      <td>-117.769388</td>\n",
       "    </tr>\n",
       "    <tr>\n",
       "      <th>4</th>\n",
       "      <td>1100212</td>\n",
       "      <td>2011-01-05</td>\n",
       "      <td>1</td>\n",
       "      <td>2011</td>\n",
       "      <td>2800 Blk ALTON PKWY</td>\n",
       "      <td>vehicle</td>\n",
       "      <td>1</td>\n",
       "      <td>2800</td>\n",
       "      <td>ALTON PKWY</td>\n",
       "      <td>2800 ALTON PKWY, Irvine, CA</td>\n",
       "      <td>33.687964</td>\n",
       "      <td>-117.831472</td>\n",
       "    </tr>\n",
       "  </tbody>\n",
       "</table>\n",
       "</div>"
      ],
      "text/plain": [
       "        DR       Date  Month  Year  \\\n",
       "0  1100034 2011-01-01  1      2011   \n",
       "1  1100051 2011-01-02  1      2011   \n",
       "2  1100108 2011-01-04  1      2011   \n",
       "3  1100198 2011-01-05  1      2011   \n",
       "4  1100212 2011-01-05  1      2011   \n",
       "\n",
       "                                                                                        Block  \\\n",
       "0  CAPSTONE / RIVERSTONE                                                                        \n",
       "1  14800 Blk GAINFORD CIR                                                                       \n",
       "2  100 Blk SAINT VINCENT                                                                        \n",
       "3  0 Blk REMINGTON                                                                              \n",
       "4  2800 Blk ALTON PKWY                                                                          \n",
       "\n",
       "      Type  Week_Num Number                 Street  \\\n",
       "0  vehicle  1         0      CAPSTONE / RIVERSTONE   \n",
       "1  vehicle  1         14800  GAINFORD CIR            \n",
       "2  vehicle  1         100    SAINT VINCENT           \n",
       "3  garage   1         0      REMINGTON               \n",
       "4  vehicle  1         2800   ALTON PKWY              \n",
       "\n",
       "                               Address        Lat         Lon  \n",
       "0  0 CAPSTONE / RIVERSTONE, Irvine, CA  33.700425 -117.796927  \n",
       "1  14800 GAINFORD CIR, Irvine, CA       33.694986 -117.783549  \n",
       "2  100 SAINT VINCENT, Irvine, CA        33.666169 -117.789836  \n",
       "3  0 REMINGTON, Irvine, CA              33.700298 -117.769388  \n",
       "4  2800 ALTON PKWY, Irvine, CA          33.687964 -117.831472  "
      ]
     },
     "execution_count": 41,
     "metadata": {},
     "output_type": "execute_result"
    }
   ],
   "source": [
    "combined.head()"
   ]
  },
  {
   "cell_type": "markdown",
   "metadata": {},
   "source": [
    "---"
   ]
  },
  {
   "cell_type": "markdown",
   "metadata": {},
   "source": [
    "### Checking for Missing or Incorrect Lat/Lon"
   ]
  },
  {
   "cell_type": "code",
   "execution_count": 42,
   "metadata": {},
   "outputs": [
    {
     "name": "stdout",
     "output_type": "stream",
     "text": [
      "<class 'pandas.core.frame.DataFrame'>\n",
      "RangeIndex: 6390 entries, 0 to 6389\n",
      "Data columns (total 12 columns):\n",
      "DR          6390 non-null int64\n",
      "Date        6390 non-null datetime64[ns]\n",
      "Month       6390 non-null int64\n",
      "Year        6390 non-null int64\n",
      "Block       6390 non-null object\n",
      "Type        6390 non-null object\n",
      "Week_Num    6390 non-null int64\n",
      "Number      6390 non-null object\n",
      "Street      6390 non-null object\n",
      "Address     6390 non-null object\n",
      "Lat         6389 non-null float64\n",
      "Lon         6389 non-null float64\n",
      "dtypes: datetime64[ns](1), float64(2), int64(4), object(5)\n",
      "memory usage: 599.2+ KB\n"
     ]
    }
   ],
   "source": [
    "combined.info()"
   ]
  },
  {
   "cell_type": "markdown",
   "metadata": {},
   "source": [
    "---"
   ]
  },
  {
   "cell_type": "markdown",
   "metadata": {},
   "source": [
    "#### (1) Filling in Missing lat/lon:"
   ]
  },
  {
   "cell_type": "code",
   "execution_count": 43,
   "metadata": {},
   "outputs": [
    {
     "data": {
      "text/html": [
       "<div>\n",
       "<style scoped>\n",
       "    .dataframe tbody tr th:only-of-type {\n",
       "        vertical-align: middle;\n",
       "    }\n",
       "\n",
       "    .dataframe tbody tr th {\n",
       "        vertical-align: top;\n",
       "    }\n",
       "\n",
       "    .dataframe thead th {\n",
       "        text-align: right;\n",
       "    }\n",
       "</style>\n",
       "<table border=\"1\" class=\"dataframe\">\n",
       "  <thead>\n",
       "    <tr style=\"text-align: right;\">\n",
       "      <th></th>\n",
       "      <th>DR</th>\n",
       "      <th>Date</th>\n",
       "      <th>Month</th>\n",
       "      <th>Year</th>\n",
       "      <th>Block</th>\n",
       "      <th>Type</th>\n",
       "      <th>Week_Num</th>\n",
       "      <th>Number</th>\n",
       "      <th>Street</th>\n",
       "      <th>Address</th>\n",
       "      <th>Lat</th>\n",
       "      <th>Lon</th>\n",
       "    </tr>\n",
       "  </thead>\n",
       "  <tbody>\n",
       "    <tr>\n",
       "      <th>1441</th>\n",
       "      <td>1305130</td>\n",
       "      <td>2013-04-26</td>\n",
       "      <td>4</td>\n",
       "      <td>2013</td>\n",
       "      <td>0 Blk ISLANDVIEW</td>\n",
       "      <td>vehicle</td>\n",
       "      <td>17</td>\n",
       "      <td>0</td>\n",
       "      <td>ISLANDVIEW</td>\n",
       "      <td>0 ISLANDVIEW, Irvine, CA</td>\n",
       "      <td>NaN</td>\n",
       "      <td>NaN</td>\n",
       "    </tr>\n",
       "  </tbody>\n",
       "</table>\n",
       "</div>"
      ],
      "text/plain": [
       "           DR       Date  Month  Year  \\\n",
       "1441  1305130 2013-04-26  4      2013   \n",
       "\n",
       "                                                                                       Block  \\\n",
       "1441  0 Blk ISLANDVIEW                                                                         \n",
       "\n",
       "         Type  Week_Num Number      Street                   Address  Lat  Lon  \n",
       "1441  vehicle  17        0      ISLANDVIEW  0 ISLANDVIEW, Irvine, CA NaN  NaN   "
      ]
     },
     "execution_count": 43,
     "metadata": {},
     "output_type": "execute_result"
    }
   ],
   "source": [
    "combined[combined.Lon.isna()]"
   ]
  },
  {
   "cell_type": "code",
   "execution_count": 44,
   "metadata": {},
   "outputs": [],
   "source": [
    "# Typo- should be a space b/w \"Island\" & \"View\"\n",
    "combined.loc[combined.Address == '0 ISLANDVIEW, Irvine, CA', 'Address'] = '0 ISLAND VIEW, Irvine, CA'"
   ]
  },
  {
   "cell_type": "code",
   "execution_count": 45,
   "metadata": {},
   "outputs": [
    {
     "data": {
      "text/html": [
       "<div>\n",
       "<style scoped>\n",
       "    .dataframe tbody tr th:only-of-type {\n",
       "        vertical-align: middle;\n",
       "    }\n",
       "\n",
       "    .dataframe tbody tr th {\n",
       "        vertical-align: top;\n",
       "    }\n",
       "\n",
       "    .dataframe thead th {\n",
       "        text-align: right;\n",
       "    }\n",
       "</style>\n",
       "<table border=\"1\" class=\"dataframe\">\n",
       "  <thead>\n",
       "    <tr style=\"text-align: right;\">\n",
       "      <th></th>\n",
       "      <th>DR</th>\n",
       "      <th>Date</th>\n",
       "      <th>Month</th>\n",
       "      <th>Year</th>\n",
       "      <th>Block</th>\n",
       "      <th>Type</th>\n",
       "      <th>Week_Num</th>\n",
       "      <th>Number</th>\n",
       "      <th>Street</th>\n",
       "      <th>Address</th>\n",
       "      <th>Lat</th>\n",
       "      <th>Lon</th>\n",
       "    </tr>\n",
       "  </thead>\n",
       "  <tbody>\n",
       "    <tr>\n",
       "      <th>1441</th>\n",
       "      <td>1305130</td>\n",
       "      <td>2013-04-26</td>\n",
       "      <td>4</td>\n",
       "      <td>2013</td>\n",
       "      <td>0 Blk ISLANDVIEW</td>\n",
       "      <td>vehicle</td>\n",
       "      <td>17</td>\n",
       "      <td>0</td>\n",
       "      <td>ISLANDVIEW</td>\n",
       "      <td>0 ISLAND VIEW, Irvine, CA</td>\n",
       "      <td>NaN</td>\n",
       "      <td>NaN</td>\n",
       "    </tr>\n",
       "  </tbody>\n",
       "</table>\n",
       "</div>"
      ],
      "text/plain": [
       "           DR       Date  Month  Year  \\\n",
       "1441  1305130 2013-04-26  4      2013   \n",
       "\n",
       "                                                                                       Block  \\\n",
       "1441  0 Blk ISLANDVIEW                                                                         \n",
       "\n",
       "         Type  Week_Num Number      Street                    Address  Lat  \\\n",
       "1441  vehicle  17        0      ISLANDVIEW  0 ISLAND VIEW, Irvine, CA NaN    \n",
       "\n",
       "      Lon  \n",
       "1441 NaN   "
      ]
     },
     "execution_count": 45,
     "metadata": {},
     "output_type": "execute_result"
    }
   ],
   "source": [
    "combined[combined.Address == '0 ISLAND VIEW, Irvine, CA']"
   ]
  },
  {
   "cell_type": "code",
   "execution_count": 46,
   "metadata": {},
   "outputs": [],
   "source": [
    "geocode = googmap.geocode('0 ISLAND VIEW, Irvine, CA')\n",
    "combined.loc[combined.Address == '0 ISLAND VIEW, Irvine, CA', 'Lat'] = float(geocode[0]['geometry']['location']['lat'])\n",
    "combined.loc[combined.Address == '0 ISLAND VIEW, Irvine, CA', 'Lon'] = float(geocode[0]['geometry']['location']['lng'])"
   ]
  },
  {
   "cell_type": "code",
   "execution_count": 47,
   "metadata": {},
   "outputs": [
    {
     "data": {
      "text/html": [
       "<div>\n",
       "<style scoped>\n",
       "    .dataframe tbody tr th:only-of-type {\n",
       "        vertical-align: middle;\n",
       "    }\n",
       "\n",
       "    .dataframe tbody tr th {\n",
       "        vertical-align: top;\n",
       "    }\n",
       "\n",
       "    .dataframe thead th {\n",
       "        text-align: right;\n",
       "    }\n",
       "</style>\n",
       "<table border=\"1\" class=\"dataframe\">\n",
       "  <thead>\n",
       "    <tr style=\"text-align: right;\">\n",
       "      <th></th>\n",
       "      <th>DR</th>\n",
       "      <th>Date</th>\n",
       "      <th>Month</th>\n",
       "      <th>Year</th>\n",
       "      <th>Block</th>\n",
       "      <th>Type</th>\n",
       "      <th>Week_Num</th>\n",
       "      <th>Number</th>\n",
       "      <th>Street</th>\n",
       "      <th>Address</th>\n",
       "      <th>Lat</th>\n",
       "      <th>Lon</th>\n",
       "    </tr>\n",
       "  </thead>\n",
       "  <tbody>\n",
       "    <tr>\n",
       "      <th>1441</th>\n",
       "      <td>1305130</td>\n",
       "      <td>2013-04-26</td>\n",
       "      <td>4</td>\n",
       "      <td>2013</td>\n",
       "      <td>0 Blk ISLANDVIEW</td>\n",
       "      <td>vehicle</td>\n",
       "      <td>17</td>\n",
       "      <td>0</td>\n",
       "      <td>ISLANDVIEW</td>\n",
       "      <td>0 ISLAND VIEW, Irvine, CA</td>\n",
       "      <td>33.682307</td>\n",
       "      <td>-117.795601</td>\n",
       "    </tr>\n",
       "  </tbody>\n",
       "</table>\n",
       "</div>"
      ],
      "text/plain": [
       "           DR       Date  Month  Year  \\\n",
       "1441  1305130 2013-04-26  4      2013   \n",
       "\n",
       "                                                                                       Block  \\\n",
       "1441  0 Blk ISLANDVIEW                                                                         \n",
       "\n",
       "         Type  Week_Num Number      Street                    Address  \\\n",
       "1441  vehicle  17        0      ISLANDVIEW  0 ISLAND VIEW, Irvine, CA   \n",
       "\n",
       "            Lat         Lon  \n",
       "1441  33.682307 -117.795601  "
      ]
     },
     "execution_count": 47,
     "metadata": {},
     "output_type": "execute_result"
    }
   ],
   "source": [
    "combined[combined.Address == '0 ISLAND VIEW, Irvine, CA']"
   ]
  },
  {
   "cell_type": "code",
   "execution_count": 48,
   "metadata": {},
   "outputs": [
    {
     "name": "stdout",
     "output_type": "stream",
     "text": [
      "<class 'pandas.core.frame.DataFrame'>\n",
      "RangeIndex: 6390 entries, 0 to 6389\n",
      "Data columns (total 12 columns):\n",
      "DR          6390 non-null int64\n",
      "Date        6390 non-null datetime64[ns]\n",
      "Month       6390 non-null int64\n",
      "Year        6390 non-null int64\n",
      "Block       6390 non-null object\n",
      "Type        6390 non-null object\n",
      "Week_Num    6390 non-null int64\n",
      "Number      6390 non-null object\n",
      "Street      6390 non-null object\n",
      "Address     6390 non-null object\n",
      "Lat         6390 non-null float64\n",
      "Lon         6390 non-null float64\n",
      "dtypes: datetime64[ns](1), float64(2), int64(4), object(5)\n",
      "memory usage: 599.2+ KB\n"
     ]
    }
   ],
   "source": [
    "combined.info()"
   ]
  },
  {
   "cell_type": "code",
   "execution_count": 49,
   "metadata": {},
   "outputs": [],
   "source": [
    "# Examine plotting of coordinates on map (via Mapbox)- look for errors\n",
    "combined.to_csv('all_irvine_thefts.csv', index=False)"
   ]
  },
  {
   "cell_type": "markdown",
   "metadata": {},
   "source": [
    "---"
   ]
  },
  {
   "cell_type": "markdown",
   "metadata": {},
   "source": [
    "#### (2) Correcting Incorrect Lat/Lon Coordinates:"
   ]
  },
  {
   "cell_type": "markdown",
   "metadata": {},
   "source": [
    "##### *Examining Points from all_irvine_thefts.csv on Map (in Mapbox- datasets)\n",
    "(points lying outside Irvine, CA boundaries will be manually assigned correct lat/lon coordinates)"
   ]
  },
  {
   "cell_type": "code",
   "execution_count": 50,
   "metadata": {},
   "outputs": [
    {
     "data": {
      "text/html": [
       "<div>\n",
       "<style scoped>\n",
       "    .dataframe tbody tr th:only-of-type {\n",
       "        vertical-align: middle;\n",
       "    }\n",
       "\n",
       "    .dataframe tbody tr th {\n",
       "        vertical-align: top;\n",
       "    }\n",
       "\n",
       "    .dataframe thead th {\n",
       "        text-align: right;\n",
       "    }\n",
       "</style>\n",
       "<table border=\"1\" class=\"dataframe\">\n",
       "  <thead>\n",
       "    <tr style=\"text-align: right;\">\n",
       "      <th></th>\n",
       "      <th>DR</th>\n",
       "      <th>Date</th>\n",
       "      <th>Month</th>\n",
       "      <th>Year</th>\n",
       "      <th>Block</th>\n",
       "      <th>Type</th>\n",
       "      <th>Week_Num</th>\n",
       "      <th>Number</th>\n",
       "      <th>Street</th>\n",
       "      <th>Address</th>\n",
       "      <th>Lat</th>\n",
       "      <th>Lon</th>\n",
       "    </tr>\n",
       "  </thead>\n",
       "  <tbody>\n",
       "    <tr>\n",
       "      <td>2047</td>\n",
       "      <td>1409643</td>\n",
       "      <td>2014-08-01</td>\n",
       "      <td>8</td>\n",
       "      <td>2014</td>\n",
       "      <td>4600 Blk EL CAMINO REAL</td>\n",
       "      <td>Package</td>\n",
       "      <td>31</td>\n",
       "      <td>4600</td>\n",
       "      <td>EL CAMINO REAL</td>\n",
       "      <td>4600 EL CAMINO REAL, Irvine, CA</td>\n",
       "      <td>35.496727</td>\n",
       "      <td>-120.681378</td>\n",
       "    </tr>\n",
       "    <tr>\n",
       "      <td>2425</td>\n",
       "      <td>1504171</td>\n",
       "      <td>2015-03-26</td>\n",
       "      <td>3</td>\n",
       "      <td>2015</td>\n",
       "      <td>4500 Blk EL CAMINO REAL</td>\n",
       "      <td>Vehicle</td>\n",
       "      <td>13</td>\n",
       "      <td>4500</td>\n",
       "      <td>EL CAMINO REAL</td>\n",
       "      <td>4500 EL CAMINO REAL, Irvine, CA</td>\n",
       "      <td>37.401606</td>\n",
       "      <td>-122.115302</td>\n",
       "    </tr>\n",
       "    <tr>\n",
       "      <td>3868</td>\n",
       "      <td>1614520</td>\n",
       "      <td>2016-09-22</td>\n",
       "      <td>9</td>\n",
       "      <td>2016</td>\n",
       "      <td>4300 Blk EL CAMINO REAL</td>\n",
       "      <td>Package</td>\n",
       "      <td>38</td>\n",
       "      <td>4300</td>\n",
       "      <td>EL CAMINO REAL</td>\n",
       "      <td>4300 EL CAMINO REAL, Irvine, CA</td>\n",
       "      <td>37.405366</td>\n",
       "      <td>-122.119734</td>\n",
       "    </tr>\n",
       "    <tr>\n",
       "      <td>4519</td>\n",
       "      <td>1709619</td>\n",
       "      <td>2017-07-03</td>\n",
       "      <td>7</td>\n",
       "      <td>2017</td>\n",
       "      <td>4700 Blk EL CAMINO REAL</td>\n",
       "      <td>Vehicle</td>\n",
       "      <td>27</td>\n",
       "      <td>4700</td>\n",
       "      <td>EL CAMINO REAL</td>\n",
       "      <td>4700 EL CAMINO REAL, Irvine, CA</td>\n",
       "      <td>37.399946</td>\n",
       "      <td>-122.112171</td>\n",
       "    </tr>\n",
       "    <tr>\n",
       "      <td>5822</td>\n",
       "      <td>1816277</td>\n",
       "      <td>2018-11-23</td>\n",
       "      <td>11</td>\n",
       "      <td>2018</td>\n",
       "      <td>4500 Blk EL CAMINO REAL</td>\n",
       "      <td>Vehicle</td>\n",
       "      <td>47</td>\n",
       "      <td>4500</td>\n",
       "      <td>EL CAMINO REAL</td>\n",
       "      <td>4500 EL CAMINO REAL, Irvine, CA</td>\n",
       "      <td>37.401606</td>\n",
       "      <td>-122.115302</td>\n",
       "    </tr>\n",
       "  </tbody>\n",
       "</table>\n",
       "</div>"
      ],
      "text/plain": [
       "           DR        Date  Month  Year  \\\n",
       "2047  1409643  2014-08-01  8      2014   \n",
       "2425  1504171  2015-03-26  3      2015   \n",
       "3868  1614520  2016-09-22  9      2016   \n",
       "4519  1709619  2017-07-03  7      2017   \n",
       "5822  1816277  2018-11-23  11     2018   \n",
       "\n",
       "                                                                                          Block  \\\n",
       "2047  4600 Blk EL CAMINO REAL                                                                     \n",
       "2425  4500 Blk EL CAMINO REAL                                                                     \n",
       "3868  4300 Blk EL CAMINO REAL                                                                     \n",
       "4519  4700 Blk EL CAMINO REAL                                                                     \n",
       "5822  4500 Blk EL CAMINO REAL                                                                     \n",
       "\n",
       "         Type  Week_Num  Number          Street  \\\n",
       "2047  Package  31        4600    EL CAMINO REAL   \n",
       "2425  Vehicle  13        4500    EL CAMINO REAL   \n",
       "3868  Package  38        4300    EL CAMINO REAL   \n",
       "4519  Vehicle  27        4700    EL CAMINO REAL   \n",
       "5822  Vehicle  47        4500    EL CAMINO REAL   \n",
       "\n",
       "                              Address        Lat         Lon  \n",
       "2047  4600 EL CAMINO REAL, Irvine, CA  35.496727 -120.681378  \n",
       "2425  4500 EL CAMINO REAL, Irvine, CA  37.401606 -122.115302  \n",
       "3868  4300 EL CAMINO REAL, Irvine, CA  37.405366 -122.119734  \n",
       "4519  4700 EL CAMINO REAL, Irvine, CA  37.399946 -122.112171  \n",
       "5822  4500 EL CAMINO REAL, Irvine, CA  37.401606 -122.115302  "
      ]
     },
     "execution_count": 50,
     "metadata": {},
     "output_type": "execute_result"
    }
   ],
   "source": [
    "combined[combined.Address.str.contains('EL CAMINO REAL')]"
   ]
  },
  {
   "cell_type": "code",
   "execution_count": 51,
   "metadata": {},
   "outputs": [],
   "source": [
    "# The new lat/lon coordinates below are approximately correct \n",
    "for i, row in combined[combined.Address.str.contains('EL CAMINO REAL')].iterrows():\n",
    "    combined.loc[i, 'Lat'] = 33.717191\n",
    "    combined.loc[i, 'Lon'] = -117.784642"
   ]
  },
  {
   "cell_type": "code",
   "execution_count": 52,
   "metadata": {},
   "outputs": [
    {
     "data": {
      "text/html": [
       "<div>\n",
       "<style scoped>\n",
       "    .dataframe tbody tr th:only-of-type {\n",
       "        vertical-align: middle;\n",
       "    }\n",
       "\n",
       "    .dataframe tbody tr th {\n",
       "        vertical-align: top;\n",
       "    }\n",
       "\n",
       "    .dataframe thead th {\n",
       "        text-align: right;\n",
       "    }\n",
       "</style>\n",
       "<table border=\"1\" class=\"dataframe\">\n",
       "  <thead>\n",
       "    <tr style=\"text-align: right;\">\n",
       "      <th></th>\n",
       "      <th>DR</th>\n",
       "      <th>Date</th>\n",
       "      <th>Month</th>\n",
       "      <th>Year</th>\n",
       "      <th>Block</th>\n",
       "      <th>Type</th>\n",
       "      <th>Week_Num</th>\n",
       "      <th>Number</th>\n",
       "      <th>Street</th>\n",
       "      <th>Address</th>\n",
       "      <th>Lat</th>\n",
       "      <th>Lon</th>\n",
       "    </tr>\n",
       "  </thead>\n",
       "  <tbody>\n",
       "    <tr>\n",
       "      <td>2047</td>\n",
       "      <td>1409643</td>\n",
       "      <td>2014-08-01</td>\n",
       "      <td>8</td>\n",
       "      <td>2014</td>\n",
       "      <td>4600 Blk EL CAMINO REAL</td>\n",
       "      <td>Package</td>\n",
       "      <td>31</td>\n",
       "      <td>4600</td>\n",
       "      <td>EL CAMINO REAL</td>\n",
       "      <td>4600 EL CAMINO REAL, Irvine, CA</td>\n",
       "      <td>33.717191</td>\n",
       "      <td>-117.784642</td>\n",
       "    </tr>\n",
       "    <tr>\n",
       "      <td>2425</td>\n",
       "      <td>1504171</td>\n",
       "      <td>2015-03-26</td>\n",
       "      <td>3</td>\n",
       "      <td>2015</td>\n",
       "      <td>4500 Blk EL CAMINO REAL</td>\n",
       "      <td>Vehicle</td>\n",
       "      <td>13</td>\n",
       "      <td>4500</td>\n",
       "      <td>EL CAMINO REAL</td>\n",
       "      <td>4500 EL CAMINO REAL, Irvine, CA</td>\n",
       "      <td>33.717191</td>\n",
       "      <td>-117.784642</td>\n",
       "    </tr>\n",
       "    <tr>\n",
       "      <td>3868</td>\n",
       "      <td>1614520</td>\n",
       "      <td>2016-09-22</td>\n",
       "      <td>9</td>\n",
       "      <td>2016</td>\n",
       "      <td>4300 Blk EL CAMINO REAL</td>\n",
       "      <td>Package</td>\n",
       "      <td>38</td>\n",
       "      <td>4300</td>\n",
       "      <td>EL CAMINO REAL</td>\n",
       "      <td>4300 EL CAMINO REAL, Irvine, CA</td>\n",
       "      <td>33.717191</td>\n",
       "      <td>-117.784642</td>\n",
       "    </tr>\n",
       "    <tr>\n",
       "      <td>4519</td>\n",
       "      <td>1709619</td>\n",
       "      <td>2017-07-03</td>\n",
       "      <td>7</td>\n",
       "      <td>2017</td>\n",
       "      <td>4700 Blk EL CAMINO REAL</td>\n",
       "      <td>Vehicle</td>\n",
       "      <td>27</td>\n",
       "      <td>4700</td>\n",
       "      <td>EL CAMINO REAL</td>\n",
       "      <td>4700 EL CAMINO REAL, Irvine, CA</td>\n",
       "      <td>33.717191</td>\n",
       "      <td>-117.784642</td>\n",
       "    </tr>\n",
       "    <tr>\n",
       "      <td>5822</td>\n",
       "      <td>1816277</td>\n",
       "      <td>2018-11-23</td>\n",
       "      <td>11</td>\n",
       "      <td>2018</td>\n",
       "      <td>4500 Blk EL CAMINO REAL</td>\n",
       "      <td>Vehicle</td>\n",
       "      <td>47</td>\n",
       "      <td>4500</td>\n",
       "      <td>EL CAMINO REAL</td>\n",
       "      <td>4500 EL CAMINO REAL, Irvine, CA</td>\n",
       "      <td>33.717191</td>\n",
       "      <td>-117.784642</td>\n",
       "    </tr>\n",
       "  </tbody>\n",
       "</table>\n",
       "</div>"
      ],
      "text/plain": [
       "           DR        Date  Month  Year  \\\n",
       "2047  1409643  2014-08-01  8      2014   \n",
       "2425  1504171  2015-03-26  3      2015   \n",
       "3868  1614520  2016-09-22  9      2016   \n",
       "4519  1709619  2017-07-03  7      2017   \n",
       "5822  1816277  2018-11-23  11     2018   \n",
       "\n",
       "                                                                                          Block  \\\n",
       "2047  4600 Blk EL CAMINO REAL                                                                     \n",
       "2425  4500 Blk EL CAMINO REAL                                                                     \n",
       "3868  4300 Blk EL CAMINO REAL                                                                     \n",
       "4519  4700 Blk EL CAMINO REAL                                                                     \n",
       "5822  4500 Blk EL CAMINO REAL                                                                     \n",
       "\n",
       "         Type  Week_Num  Number          Street  \\\n",
       "2047  Package  31        4600    EL CAMINO REAL   \n",
       "2425  Vehicle  13        4500    EL CAMINO REAL   \n",
       "3868  Package  38        4300    EL CAMINO REAL   \n",
       "4519  Vehicle  27        4700    EL CAMINO REAL   \n",
       "5822  Vehicle  47        4500    EL CAMINO REAL   \n",
       "\n",
       "                              Address        Lat         Lon  \n",
       "2047  4600 EL CAMINO REAL, Irvine, CA  33.717191 -117.784642  \n",
       "2425  4500 EL CAMINO REAL, Irvine, CA  33.717191 -117.784642  \n",
       "3868  4300 EL CAMINO REAL, Irvine, CA  33.717191 -117.784642  \n",
       "4519  4700 EL CAMINO REAL, Irvine, CA  33.717191 -117.784642  \n",
       "5822  4500 EL CAMINO REAL, Irvine, CA  33.717191 -117.784642  "
      ]
     },
     "execution_count": 52,
     "metadata": {},
     "output_type": "execute_result"
    }
   ],
   "source": [
    "combined[combined.Address.str.contains('EL CAMINO REAL')]"
   ]
  },
  {
   "cell_type": "markdown",
   "metadata": {},
   "source": [
    "---"
   ]
  },
  {
   "cell_type": "code",
   "execution_count": 53,
   "metadata": {},
   "outputs": [],
   "source": [
    "# Creating column corresponding to 'Type' that contains numeric values for each type (to manipulate color in mapbox)\n",
    "combined['Type_Num'] = combined.Type.map({'Vehicle':0,'Package':1, 'Garage':2})"
   ]
  },
  {
   "cell_type": "code",
   "execution_count": 54,
   "metadata": {},
   "outputs": [
    {
     "data": {
      "text/html": [
       "<div>\n",
       "<style scoped>\n",
       "    .dataframe tbody tr th:only-of-type {\n",
       "        vertical-align: middle;\n",
       "    }\n",
       "\n",
       "    .dataframe tbody tr th {\n",
       "        vertical-align: top;\n",
       "    }\n",
       "\n",
       "    .dataframe thead th {\n",
       "        text-align: right;\n",
       "    }\n",
       "</style>\n",
       "<table border=\"1\" class=\"dataframe\">\n",
       "  <thead>\n",
       "    <tr style=\"text-align: right;\">\n",
       "      <th></th>\n",
       "      <th>DR</th>\n",
       "      <th>Date</th>\n",
       "      <th>Month</th>\n",
       "      <th>Year</th>\n",
       "      <th>Block</th>\n",
       "      <th>Type</th>\n",
       "      <th>Week_Num</th>\n",
       "      <th>Number</th>\n",
       "      <th>Street</th>\n",
       "      <th>Address</th>\n",
       "      <th>Lat</th>\n",
       "      <th>Lon</th>\n",
       "      <th>Type_Num</th>\n",
       "    </tr>\n",
       "  </thead>\n",
       "  <tbody>\n",
       "    <tr>\n",
       "      <td>0</td>\n",
       "      <td>1100034</td>\n",
       "      <td>2011-01-01</td>\n",
       "      <td>1</td>\n",
       "      <td>2011</td>\n",
       "      <td>CAPSTONE / RIVERSTONE</td>\n",
       "      <td>Vehicle</td>\n",
       "      <td>1</td>\n",
       "      <td>0</td>\n",
       "      <td>CAPSTONE / RIVERSTONE</td>\n",
       "      <td>0 CAPSTONE / RIVERSTONE, Irvine, CA</td>\n",
       "      <td>33.700425</td>\n",
       "      <td>-117.796927</td>\n",
       "      <td>0</td>\n",
       "    </tr>\n",
       "    <tr>\n",
       "      <td>1</td>\n",
       "      <td>1100051</td>\n",
       "      <td>2011-01-02</td>\n",
       "      <td>1</td>\n",
       "      <td>2011</td>\n",
       "      <td>14800 Blk GAINFORD CIR</td>\n",
       "      <td>Vehicle</td>\n",
       "      <td>1</td>\n",
       "      <td>14800</td>\n",
       "      <td>GAINFORD CIR</td>\n",
       "      <td>14800 GAINFORD CIR, Irvine, CA</td>\n",
       "      <td>33.694986</td>\n",
       "      <td>-117.783549</td>\n",
       "      <td>0</td>\n",
       "    </tr>\n",
       "    <tr>\n",
       "      <td>2</td>\n",
       "      <td>1100108</td>\n",
       "      <td>2011-01-04</td>\n",
       "      <td>1</td>\n",
       "      <td>2011</td>\n",
       "      <td>100 Blk SAINT VINCENT</td>\n",
       "      <td>Vehicle</td>\n",
       "      <td>1</td>\n",
       "      <td>100</td>\n",
       "      <td>SAINT VINCENT</td>\n",
       "      <td>100 SAINT VINCENT, Irvine, CA</td>\n",
       "      <td>33.666169</td>\n",
       "      <td>-117.789836</td>\n",
       "      <td>0</td>\n",
       "    </tr>\n",
       "    <tr>\n",
       "      <td>3</td>\n",
       "      <td>1100198</td>\n",
       "      <td>2011-01-05</td>\n",
       "      <td>1</td>\n",
       "      <td>2011</td>\n",
       "      <td>0 Blk REMINGTON</td>\n",
       "      <td>Garage</td>\n",
       "      <td>1</td>\n",
       "      <td>0</td>\n",
       "      <td>REMINGTON</td>\n",
       "      <td>0 REMINGTON, Irvine, CA</td>\n",
       "      <td>33.700298</td>\n",
       "      <td>-117.769388</td>\n",
       "      <td>2</td>\n",
       "    </tr>\n",
       "    <tr>\n",
       "      <td>4</td>\n",
       "      <td>1100212</td>\n",
       "      <td>2011-01-05</td>\n",
       "      <td>1</td>\n",
       "      <td>2011</td>\n",
       "      <td>2800 Blk ALTON PKWY</td>\n",
       "      <td>Vehicle</td>\n",
       "      <td>1</td>\n",
       "      <td>2800</td>\n",
       "      <td>ALTON PKWY</td>\n",
       "      <td>2800 ALTON PKWY, Irvine, CA</td>\n",
       "      <td>33.687964</td>\n",
       "      <td>-117.831472</td>\n",
       "      <td>0</td>\n",
       "    </tr>\n",
       "  </tbody>\n",
       "</table>\n",
       "</div>"
      ],
      "text/plain": [
       "        DR        Date  Month  Year  \\\n",
       "0  1100034  2011-01-01  1      2011   \n",
       "1  1100051  2011-01-02  1      2011   \n",
       "2  1100108  2011-01-04  1      2011   \n",
       "3  1100198  2011-01-05  1      2011   \n",
       "4  1100212  2011-01-05  1      2011   \n",
       "\n",
       "                                                                                        Block  \\\n",
       "0  CAPSTONE / RIVERSTONE                                                                        \n",
       "1  14800 Blk GAINFORD CIR                                                                       \n",
       "2  100 Blk SAINT VINCENT                                                                        \n",
       "3  0 Blk REMINGTON                                                                              \n",
       "4  2800 Blk ALTON PKWY                                                                          \n",
       "\n",
       "      Type  Week_Num  Number                 Street  \\\n",
       "0  Vehicle  1         0       CAPSTONE / RIVERSTONE   \n",
       "1  Vehicle  1         14800   GAINFORD CIR            \n",
       "2  Vehicle  1         100     SAINT VINCENT           \n",
       "3  Garage   1         0       REMINGTON               \n",
       "4  Vehicle  1         2800    ALTON PKWY              \n",
       "\n",
       "                               Address        Lat         Lon  Type_Num  \n",
       "0  0 CAPSTONE / RIVERSTONE, Irvine, CA  33.700425 -117.796927  0         \n",
       "1  14800 GAINFORD CIR, Irvine, CA       33.694986 -117.783549  0         \n",
       "2  100 SAINT VINCENT, Irvine, CA        33.666169 -117.789836  0         \n",
       "3  0 REMINGTON, Irvine, CA              33.700298 -117.769388  2         \n",
       "4  2800 ALTON PKWY, Irvine, CA          33.687964 -117.831472  0         "
      ]
     },
     "execution_count": 54,
     "metadata": {},
     "output_type": "execute_result"
    }
   ],
   "source": [
    "combined.head()"
   ]
  },
  {
   "cell_type": "code",
   "execution_count": 55,
   "metadata": {},
   "outputs": [],
   "source": [
    "combined.to_csv('all_irvine_thefts_final.csv', index=False)"
   ]
  }
 ],
 "metadata": {
  "kernelspec": {
   "display_name": "Python 3",
   "language": "python",
   "name": "python3"
  },
  "language_info": {
   "codemirror_mode": {
    "name": "ipython",
    "version": 3
   },
   "file_extension": ".py",
   "mimetype": "text/x-python",
   "name": "python",
   "nbconvert_exporter": "python",
   "pygments_lexer": "ipython3",
   "version": "3.6.7"
  }
 },
 "nbformat": 4,
 "nbformat_minor": 4
}
