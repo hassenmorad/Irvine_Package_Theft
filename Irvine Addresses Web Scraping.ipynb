{
 "cells": [
  {
   "cell_type": "markdown",
   "metadata": {},
   "source": [
    "Collecting & Cleaning Data:"
   ]
  },
  {
   "cell_type": "code",
   "execution_count": 28,
   "metadata": {},
   "outputs": [],
   "source": [
    "import pandas as pd\n",
    "import googlemaps\n",
    "import re\n",
    "import os"
   ]
  },
  {
   "cell_type": "code",
   "execution_count": 57,
   "metadata": {},
   "outputs": [],
   "source": [
    "API_KEY = (hidden)"
   ]
  },
  {
   "cell_type": "code",
   "execution_count": 58,
   "metadata": {},
   "outputs": [],
   "source": [
    "googmap = googlemaps.Client(key=API_KEY)"
   ]
  },
  {
   "cell_type": "markdown",
   "metadata": {},
   "source": [
    "---"
   ]
  },
  {
   "cell_type": "markdown",
   "metadata": {},
   "source": [
    "Package Theft Addresses:"
   ]
  },
  {
   "cell_type": "code",
   "execution_count": 368,
   "metadata": {},
   "outputs": [],
   "source": [
    "# File of reported package thefts from Irvine PD \n",
    "addresses = pd.read_csv('PRA Packages Thefts.csv')"
   ]
  },
  {
   "cell_type": "code",
   "execution_count": 369,
   "metadata": {},
   "outputs": [
    {
     "data": {
      "text/html": [
       "<div>\n",
       "<style scoped>\n",
       "    .dataframe tbody tr th:only-of-type {\n",
       "        vertical-align: middle;\n",
       "    }\n",
       "\n",
       "    .dataframe tbody tr th {\n",
       "        vertical-align: top;\n",
       "    }\n",
       "\n",
       "    .dataframe thead th {\n",
       "        text-align: right;\n",
       "    }\n",
       "</style>\n",
       "<table border=\"1\" class=\"dataframe\">\n",
       "  <thead>\n",
       "    <tr style=\"text-align: right;\">\n",
       "      <th></th>\n",
       "      <th>DR</th>\n",
       "      <th>date_rept</th>\n",
       "      <th>monthstamp</th>\n",
       "      <th>yearstamp</th>\n",
       "      <th>Block</th>\n",
       "    </tr>\n",
       "  </thead>\n",
       "  <tbody>\n",
       "    <tr>\n",
       "      <th>0</th>\n",
       "      <td>1607426</td>\n",
       "      <td>5/12/2016</td>\n",
       "      <td>5</td>\n",
       "      <td>2016</td>\n",
       "      <td>100 Blk ESPLANADE</td>\n",
       "    </tr>\n",
       "  </tbody>\n",
       "</table>\n",
       "</div>"
      ],
      "text/plain": [
       "        DR  date_rept  monthstamp  yearstamp              Block\n",
       "0  1607426  5/12/2016           5       2016  100 Blk ESPLANADE"
      ]
     },
     "execution_count": 369,
     "metadata": {},
     "output_type": "execute_result"
    }
   ],
   "source": [
    "addresses.head(1)"
   ]
  },
  {
   "cell_type": "code",
   "execution_count": 370,
   "metadata": {},
   "outputs": [],
   "source": [
    "addresses = addresses.drop(['monthstamp'], axis=1)"
   ]
  },
  {
   "cell_type": "code",
   "execution_count": 371,
   "metadata": {},
   "outputs": [],
   "source": [
    "addresses.date_rept = pd.to_datetime(addresses.date_rept).dt.date"
   ]
  },
  {
   "cell_type": "code",
   "execution_count": 372,
   "metadata": {},
   "outputs": [],
   "source": [
    "addresses = addresses.sort_values(['date_rept', 'DR']).reset_index(drop=True)"
   ]
  },
  {
   "cell_type": "code",
   "execution_count": 373,
   "metadata": {},
   "outputs": [
    {
     "data": {
      "text/html": [
       "<div>\n",
       "<style scoped>\n",
       "    .dataframe tbody tr th:only-of-type {\n",
       "        vertical-align: middle;\n",
       "    }\n",
       "\n",
       "    .dataframe tbody tr th {\n",
       "        vertical-align: top;\n",
       "    }\n",
       "\n",
       "    .dataframe thead th {\n",
       "        text-align: right;\n",
       "    }\n",
       "</style>\n",
       "<table border=\"1\" class=\"dataframe\">\n",
       "  <thead>\n",
       "    <tr style=\"text-align: right;\">\n",
       "      <th></th>\n",
       "      <th>DR</th>\n",
       "      <th>date_rept</th>\n",
       "      <th>yearstamp</th>\n",
       "      <th>Block</th>\n",
       "    </tr>\n",
       "  </thead>\n",
       "  <tbody>\n",
       "    <tr>\n",
       "      <th>0</th>\n",
       "      <td>1100325</td>\n",
       "      <td>2011-01-07</td>\n",
       "      <td>2011</td>\n",
       "      <td>100 Blk ROCKVIEW</td>\n",
       "    </tr>\n",
       "  </tbody>\n",
       "</table>\n",
       "</div>"
      ],
      "text/plain": [
       "        DR   date_rept  yearstamp             Block\n",
       "0  1100325  2011-01-07       2011  100 Blk ROCKVIEW"
      ]
     },
     "execution_count": 373,
     "metadata": {},
     "output_type": "execute_result"
    }
   ],
   "source": [
    "addresses.head(1)"
   ]
  },
  {
   "cell_type": "code",
   "execution_count": 374,
   "metadata": {},
   "outputs": [
    {
     "data": {
      "text/html": [
       "<div>\n",
       "<style scoped>\n",
       "    .dataframe tbody tr th:only-of-type {\n",
       "        vertical-align: middle;\n",
       "    }\n",
       "\n",
       "    .dataframe tbody tr th {\n",
       "        vertical-align: top;\n",
       "    }\n",
       "\n",
       "    .dataframe thead th {\n",
       "        text-align: right;\n",
       "    }\n",
       "</style>\n",
       "<table border=\"1\" class=\"dataframe\">\n",
       "  <thead>\n",
       "    <tr style=\"text-align: right;\">\n",
       "      <th></th>\n",
       "      <th>DR</th>\n",
       "      <th>date_rept</th>\n",
       "      <th>yearstamp</th>\n",
       "      <th>Block</th>\n",
       "    </tr>\n",
       "  </thead>\n",
       "  <tbody>\n",
       "    <tr>\n",
       "      <th>968</th>\n",
       "      <td>1980370</td>\n",
       "      <td>2019-05-26</td>\n",
       "      <td>2019</td>\n",
       "      <td>200 Blk CULTIVATE</td>\n",
       "    </tr>\n",
       "  </tbody>\n",
       "</table>\n",
       "</div>"
      ],
      "text/plain": [
       "          DR   date_rept  yearstamp              Block\n",
       "968  1980370  2019-05-26       2019  200 Blk CULTIVATE"
      ]
     },
     "execution_count": 374,
     "metadata": {},
     "output_type": "execute_result"
    }
   ],
   "source": [
    "addresses.tail(1)"
   ]
  },
  {
   "cell_type": "code",
   "execution_count": 375,
   "metadata": {},
   "outputs": [
    {
     "data": {
      "text/plain": [
       "2018    176\n",
       "2017    168\n",
       "2016    151\n",
       "2015    148\n",
       "2019     93\n",
       "2014     68\n",
       "2013     61\n",
       "2011     60\n",
       "2012     44\n",
       "Name: yearstamp, dtype: int64"
      ]
     },
     "execution_count": 375,
     "metadata": {},
     "output_type": "execute_result"
    }
   ],
   "source": [
    "addresses.yearstamp.value_counts()"
   ]
  },
  {
   "cell_type": "code",
   "execution_count": 376,
   "metadata": {},
   "outputs": [
    {
     "data": {
      "text/html": [
       "<div>\n",
       "<style scoped>\n",
       "    .dataframe tbody tr th:only-of-type {\n",
       "        vertical-align: middle;\n",
       "    }\n",
       "\n",
       "    .dataframe tbody tr th {\n",
       "        vertical-align: top;\n",
       "    }\n",
       "\n",
       "    .dataframe thead th {\n",
       "        text-align: right;\n",
       "    }\n",
       "</style>\n",
       "<table border=\"1\" class=\"dataframe\">\n",
       "  <thead>\n",
       "    <tr style=\"text-align: right;\">\n",
       "      <th></th>\n",
       "      <th>DR</th>\n",
       "      <th>date_rept</th>\n",
       "      <th>yearstamp</th>\n",
       "      <th>Block</th>\n",
       "    </tr>\n",
       "  </thead>\n",
       "  <tbody>\n",
       "    <tr>\n",
       "      <th>0</th>\n",
       "      <td>1100325</td>\n",
       "      <td>2011-01-07</td>\n",
       "      <td>2011</td>\n",
       "      <td>100 Blk ROCKVIEW</td>\n",
       "    </tr>\n",
       "    <tr>\n",
       "      <th>1</th>\n",
       "      <td>1102024</td>\n",
       "      <td>2011-02-10</td>\n",
       "      <td>2011</td>\n",
       "      <td>900 Blk SOMERVILLE</td>\n",
       "    </tr>\n",
       "    <tr>\n",
       "      <th>2</th>\n",
       "      <td>1105426</td>\n",
       "      <td>2011-04-19</td>\n",
       "      <td>2011</td>\n",
       "      <td>400 Blk ORANGE BLOSSOM</td>\n",
       "    </tr>\n",
       "    <tr>\n",
       "      <th>3</th>\n",
       "      <td>1107360</td>\n",
       "      <td>2011-05-26</td>\n",
       "      <td>2011</td>\n",
       "      <td>0 Blk WEATHERSFIELD</td>\n",
       "    </tr>\n",
       "    <tr>\n",
       "      <th>4</th>\n",
       "      <td>1109744</td>\n",
       "      <td>2011-06-26</td>\n",
       "      <td>2011</td>\n",
       "      <td>0 Blk EL CAJON</td>\n",
       "    </tr>\n",
       "  </tbody>\n",
       "</table>\n",
       "</div>"
      ],
      "text/plain": [
       "        DR   date_rept  yearstamp                   Block\n",
       "0  1100325  2011-01-07       2011        100 Blk ROCKVIEW\n",
       "1  1102024  2011-02-10       2011      900 Blk SOMERVILLE\n",
       "2  1105426  2011-04-19       2011  400 Blk ORANGE BLOSSOM\n",
       "3  1107360  2011-05-26       2011     0 Blk WEATHERSFIELD\n",
       "4  1109744  2011-06-26       2011          0 Blk EL CAJON"
      ]
     },
     "execution_count": 376,
     "metadata": {},
     "output_type": "execute_result"
    }
   ],
   "source": [
    "addresses.head()"
   ]
  },
  {
   "cell_type": "code",
   "execution_count": 377,
   "metadata": {},
   "outputs": [],
   "source": [
    "addresses['Street'] = addresses.Block.str.extract('([^\\d+].+$)')\n",
    "remove_block = [name[4:] for name in addresses.Street]\n",
    "addresses['Street'] = remove_block"
   ]
  },
  {
   "cell_type": "code",
   "execution_count": 378,
   "metadata": {},
   "outputs": [],
   "source": [
    "addresses['Block'] = addresses.Block.str.extract('(\\d+)')"
   ]
  },
  {
   "cell_type": "code",
   "execution_count": 401,
   "metadata": {},
   "outputs": [
    {
     "data": {
      "text/html": [
       "<div>\n",
       "<style scoped>\n",
       "    .dataframe tbody tr th:only-of-type {\n",
       "        vertical-align: middle;\n",
       "    }\n",
       "\n",
       "    .dataframe tbody tr th {\n",
       "        vertical-align: top;\n",
       "    }\n",
       "\n",
       "    .dataframe thead th {\n",
       "        text-align: right;\n",
       "    }\n",
       "</style>\n",
       "<table border=\"1\" class=\"dataframe\">\n",
       "  <thead>\n",
       "    <tr style=\"text-align: right;\">\n",
       "      <th></th>\n",
       "      <th>DR</th>\n",
       "      <th>Date</th>\n",
       "      <th>Year</th>\n",
       "      <th>Block</th>\n",
       "      <th>Street</th>\n",
       "      <th>Address</th>\n",
       "      <th>Lat</th>\n",
       "      <th>Lon</th>\n",
       "    </tr>\n",
       "  </thead>\n",
       "  <tbody>\n",
       "    <tr>\n",
       "      <th>0</th>\n",
       "      <td>1100325</td>\n",
       "      <td>2011-01-07</td>\n",
       "      <td>2011</td>\n",
       "      <td>100</td>\n",
       "      <td>ROCKVIEW</td>\n",
       "      <td>100 ROCKVIEW, Irvine, CA</td>\n",
       "      <td>33.652512</td>\n",
       "      <td>-117.819850</td>\n",
       "    </tr>\n",
       "    <tr>\n",
       "      <th>1</th>\n",
       "      <td>1102024</td>\n",
       "      <td>2011-02-10</td>\n",
       "      <td>2011</td>\n",
       "      <td>900</td>\n",
       "      <td>SOMERVILLE</td>\n",
       "      <td>900 SOMERVILLE, Irvine, CA</td>\n",
       "      <td>33.728637</td>\n",
       "      <td>-117.760803</td>\n",
       "    </tr>\n",
       "    <tr>\n",
       "      <th>2</th>\n",
       "      <td>1105426</td>\n",
       "      <td>2011-04-19</td>\n",
       "      <td>2011</td>\n",
       "      <td>400</td>\n",
       "      <td>ORANGE BLOSSOM</td>\n",
       "      <td>400 ORANGE BLOSSOM, Irvine, CA</td>\n",
       "      <td>33.672377</td>\n",
       "      <td>-117.774126</td>\n",
       "    </tr>\n",
       "    <tr>\n",
       "      <th>3</th>\n",
       "      <td>1107360</td>\n",
       "      <td>2011-05-26</td>\n",
       "      <td>2011</td>\n",
       "      <td>0</td>\n",
       "      <td>WEATHERSFIELD</td>\n",
       "      <td>0 WEATHERSFIELD, Irvine, CA</td>\n",
       "      <td>33.729731</td>\n",
       "      <td>-117.778779</td>\n",
       "    </tr>\n",
       "    <tr>\n",
       "      <th>4</th>\n",
       "      <td>1109744</td>\n",
       "      <td>2011-06-26</td>\n",
       "      <td>2011</td>\n",
       "      <td>0</td>\n",
       "      <td>EL CAJON</td>\n",
       "      <td>0 EL CAJON, Irvine, CA</td>\n",
       "      <td>33.734975</td>\n",
       "      <td>-117.769954</td>\n",
       "    </tr>\n",
       "  </tbody>\n",
       "</table>\n",
       "</div>"
      ],
      "text/plain": [
       "        DR        Date  Year Block           Street  \\\n",
       "0  1100325  2011-01-07  2011   100         ROCKVIEW   \n",
       "1  1102024  2011-02-10  2011   900       SOMERVILLE   \n",
       "2  1105426  2011-04-19  2011   400   ORANGE BLOSSOM   \n",
       "3  1107360  2011-05-26  2011     0    WEATHERSFIELD   \n",
       "4  1109744  2011-06-26  2011     0         EL CAJON   \n",
       "\n",
       "                          Address        Lat         Lon  \n",
       "0        100 ROCKVIEW, Irvine, CA  33.652512 -117.819850  \n",
       "1      900 SOMERVILLE, Irvine, CA  33.728637 -117.760803  \n",
       "2  400 ORANGE BLOSSOM, Irvine, CA  33.672377 -117.774126  \n",
       "3     0 WEATHERSFIELD, Irvine, CA  33.729731 -117.778779  \n",
       "4          0 EL CAJON, Irvine, CA  33.734975 -117.769954  "
      ]
     },
     "execution_count": 401,
     "metadata": {},
     "output_type": "execute_result"
    }
   ],
   "source": [
    "addresses.head()"
   ]
  },
  {
   "cell_type": "code",
   "execution_count": 380,
   "metadata": {},
   "outputs": [],
   "source": [
    "addresses['Address'] = addresses.Block + addresses.Street + ', Irvine, CA'"
   ]
  },
  {
   "cell_type": "code",
   "execution_count": 381,
   "metadata": {},
   "outputs": [
    {
     "data": {
      "text/html": [
       "<div>\n",
       "<style scoped>\n",
       "    .dataframe tbody tr th:only-of-type {\n",
       "        vertical-align: middle;\n",
       "    }\n",
       "\n",
       "    .dataframe tbody tr th {\n",
       "        vertical-align: top;\n",
       "    }\n",
       "\n",
       "    .dataframe thead th {\n",
       "        text-align: right;\n",
       "    }\n",
       "</style>\n",
       "<table border=\"1\" class=\"dataframe\">\n",
       "  <thead>\n",
       "    <tr style=\"text-align: right;\">\n",
       "      <th></th>\n",
       "      <th>DR</th>\n",
       "      <th>date_rept</th>\n",
       "      <th>yearstamp</th>\n",
       "      <th>Block</th>\n",
       "      <th>Street</th>\n",
       "      <th>Address</th>\n",
       "    </tr>\n",
       "  </thead>\n",
       "  <tbody>\n",
       "    <tr>\n",
       "      <th>0</th>\n",
       "      <td>1100325</td>\n",
       "      <td>2011-01-07</td>\n",
       "      <td>2011</td>\n",
       "      <td>100</td>\n",
       "      <td>ROCKVIEW</td>\n",
       "      <td>100 ROCKVIEW, Irvine, CA</td>\n",
       "    </tr>\n",
       "    <tr>\n",
       "      <th>1</th>\n",
       "      <td>1102024</td>\n",
       "      <td>2011-02-10</td>\n",
       "      <td>2011</td>\n",
       "      <td>900</td>\n",
       "      <td>SOMERVILLE</td>\n",
       "      <td>900 SOMERVILLE, Irvine, CA</td>\n",
       "    </tr>\n",
       "    <tr>\n",
       "      <th>2</th>\n",
       "      <td>1105426</td>\n",
       "      <td>2011-04-19</td>\n",
       "      <td>2011</td>\n",
       "      <td>400</td>\n",
       "      <td>ORANGE BLOSSOM</td>\n",
       "      <td>400 ORANGE BLOSSOM, Irvine, CA</td>\n",
       "    </tr>\n",
       "    <tr>\n",
       "      <th>3</th>\n",
       "      <td>1107360</td>\n",
       "      <td>2011-05-26</td>\n",
       "      <td>2011</td>\n",
       "      <td>0</td>\n",
       "      <td>WEATHERSFIELD</td>\n",
       "      <td>0 WEATHERSFIELD, Irvine, CA</td>\n",
       "    </tr>\n",
       "    <tr>\n",
       "      <th>4</th>\n",
       "      <td>1109744</td>\n",
       "      <td>2011-06-26</td>\n",
       "      <td>2011</td>\n",
       "      <td>0</td>\n",
       "      <td>EL CAJON</td>\n",
       "      <td>0 EL CAJON, Irvine, CA</td>\n",
       "    </tr>\n",
       "  </tbody>\n",
       "</table>\n",
       "</div>"
      ],
      "text/plain": [
       "        DR   date_rept  yearstamp Block           Street  \\\n",
       "0  1100325  2011-01-07       2011   100         ROCKVIEW   \n",
       "1  1102024  2011-02-10       2011   900       SOMERVILLE   \n",
       "2  1105426  2011-04-19       2011   400   ORANGE BLOSSOM   \n",
       "3  1107360  2011-05-26       2011     0    WEATHERSFIELD   \n",
       "4  1109744  2011-06-26       2011     0         EL CAJON   \n",
       "\n",
       "                          Address  \n",
       "0        100 ROCKVIEW, Irvine, CA  \n",
       "1      900 SOMERVILLE, Irvine, CA  \n",
       "2  400 ORANGE BLOSSOM, Irvine, CA  \n",
       "3     0 WEATHERSFIELD, Irvine, CA  \n",
       "4          0 EL CAJON, Irvine, CA  "
      ]
     },
     "execution_count": 381,
     "metadata": {},
     "output_type": "execute_result"
    }
   ],
   "source": [
    "addresses.head()"
   ]
  },
  {
   "cell_type": "code",
   "execution_count": 262,
   "metadata": {},
   "outputs": [],
   "source": [
    "# This took about 6 minutes to complete\n",
    "lats = []\n",
    "lons = []\n",
    "\n",
    "for address in addresses.Address:\n",
    "    geocode = googmap.geocode(address)\n",
    "    try:\n",
    "        lats.append(float(geocode[0]['geometry']['location']['lat']))\n",
    "        lons.append(float(geocode[0]['geometry']['location']['lng']))\n",
    "    except:\n",
    "        lats.append(None)\n",
    "        lons.append(None)"
   ]
  },
  {
   "cell_type": "code",
   "execution_count": 382,
   "metadata": {},
   "outputs": [],
   "source": [
    "addresses['Lat'] = lats\n",
    "addresses['Lon'] = lons"
   ]
  },
  {
   "cell_type": "code",
   "execution_count": 383,
   "metadata": {},
   "outputs": [],
   "source": [
    "addresses = addresses.rename({'date_rept':'Date', 'yearstamp':'Year'}, axis=1)"
   ]
  },
  {
   "cell_type": "code",
   "execution_count": 384,
   "metadata": {},
   "outputs": [
    {
     "data": {
      "text/html": [
       "<div>\n",
       "<style scoped>\n",
       "    .dataframe tbody tr th:only-of-type {\n",
       "        vertical-align: middle;\n",
       "    }\n",
       "\n",
       "    .dataframe tbody tr th {\n",
       "        vertical-align: top;\n",
       "    }\n",
       "\n",
       "    .dataframe thead th {\n",
       "        text-align: right;\n",
       "    }\n",
       "</style>\n",
       "<table border=\"1\" class=\"dataframe\">\n",
       "  <thead>\n",
       "    <tr style=\"text-align: right;\">\n",
       "      <th></th>\n",
       "      <th>DR</th>\n",
       "      <th>Date</th>\n",
       "      <th>Year</th>\n",
       "      <th>Block</th>\n",
       "      <th>Street</th>\n",
       "      <th>Address</th>\n",
       "      <th>Lat</th>\n",
       "      <th>Lon</th>\n",
       "    </tr>\n",
       "  </thead>\n",
       "  <tbody>\n",
       "    <tr>\n",
       "      <th>0</th>\n",
       "      <td>1100325</td>\n",
       "      <td>2011-01-07</td>\n",
       "      <td>2011</td>\n",
       "      <td>100</td>\n",
       "      <td>ROCKVIEW</td>\n",
       "      <td>100 ROCKVIEW, Irvine, CA</td>\n",
       "      <td>33.652512</td>\n",
       "      <td>-117.819850</td>\n",
       "    </tr>\n",
       "    <tr>\n",
       "      <th>1</th>\n",
       "      <td>1102024</td>\n",
       "      <td>2011-02-10</td>\n",
       "      <td>2011</td>\n",
       "      <td>900</td>\n",
       "      <td>SOMERVILLE</td>\n",
       "      <td>900 SOMERVILLE, Irvine, CA</td>\n",
       "      <td>33.728637</td>\n",
       "      <td>-117.760803</td>\n",
       "    </tr>\n",
       "    <tr>\n",
       "      <th>2</th>\n",
       "      <td>1105426</td>\n",
       "      <td>2011-04-19</td>\n",
       "      <td>2011</td>\n",
       "      <td>400</td>\n",
       "      <td>ORANGE BLOSSOM</td>\n",
       "      <td>400 ORANGE BLOSSOM, Irvine, CA</td>\n",
       "      <td>33.672377</td>\n",
       "      <td>-117.774126</td>\n",
       "    </tr>\n",
       "    <tr>\n",
       "      <th>3</th>\n",
       "      <td>1107360</td>\n",
       "      <td>2011-05-26</td>\n",
       "      <td>2011</td>\n",
       "      <td>0</td>\n",
       "      <td>WEATHERSFIELD</td>\n",
       "      <td>0 WEATHERSFIELD, Irvine, CA</td>\n",
       "      <td>33.729731</td>\n",
       "      <td>-117.778779</td>\n",
       "    </tr>\n",
       "    <tr>\n",
       "      <th>4</th>\n",
       "      <td>1109744</td>\n",
       "      <td>2011-06-26</td>\n",
       "      <td>2011</td>\n",
       "      <td>0</td>\n",
       "      <td>EL CAJON</td>\n",
       "      <td>0 EL CAJON, Irvine, CA</td>\n",
       "      <td>33.734975</td>\n",
       "      <td>-117.769954</td>\n",
       "    </tr>\n",
       "  </tbody>\n",
       "</table>\n",
       "</div>"
      ],
      "text/plain": [
       "        DR        Date  Year Block           Street  \\\n",
       "0  1100325  2011-01-07  2011   100         ROCKVIEW   \n",
       "1  1102024  2011-02-10  2011   900       SOMERVILLE   \n",
       "2  1105426  2011-04-19  2011   400   ORANGE BLOSSOM   \n",
       "3  1107360  2011-05-26  2011     0    WEATHERSFIELD   \n",
       "4  1109744  2011-06-26  2011     0         EL CAJON   \n",
       "\n",
       "                          Address        Lat         Lon  \n",
       "0        100 ROCKVIEW, Irvine, CA  33.652512 -117.819850  \n",
       "1      900 SOMERVILLE, Irvine, CA  33.728637 -117.760803  \n",
       "2  400 ORANGE BLOSSOM, Irvine, CA  33.672377 -117.774126  \n",
       "3     0 WEATHERSFIELD, Irvine, CA  33.729731 -117.778779  \n",
       "4          0 EL CAJON, Irvine, CA  33.734975 -117.769954  "
      ]
     },
     "execution_count": 384,
     "metadata": {},
     "output_type": "execute_result"
    }
   ],
   "source": [
    "addresses.head()"
   ]
  },
  {
   "cell_type": "code",
   "execution_count": 385,
   "metadata": {},
   "outputs": [
    {
     "name": "stdout",
     "output_type": "stream",
     "text": [
      "<class 'pandas.core.frame.DataFrame'>\n",
      "RangeIndex: 969 entries, 0 to 968\n",
      "Data columns (total 8 columns):\n",
      "DR         969 non-null int64\n",
      "Date       969 non-null object\n",
      "Year       969 non-null int64\n",
      "Block      967 non-null object\n",
      "Street     969 non-null object\n",
      "Address    967 non-null object\n",
      "Lat        967 non-null float64\n",
      "Lon        967 non-null float64\n",
      "dtypes: float64(2), int64(2), object(4)\n",
      "memory usage: 60.6+ KB\n"
     ]
    }
   ],
   "source": [
    "addresses.info()"
   ]
  },
  {
   "cell_type": "code",
   "execution_count": 386,
   "metadata": {},
   "outputs": [
    {
     "data": {
      "text/html": [
       "<div>\n",
       "<style scoped>\n",
       "    .dataframe tbody tr th:only-of-type {\n",
       "        vertical-align: middle;\n",
       "    }\n",
       "\n",
       "    .dataframe tbody tr th {\n",
       "        vertical-align: top;\n",
       "    }\n",
       "\n",
       "    .dataframe thead th {\n",
       "        text-align: right;\n",
       "    }\n",
       "</style>\n",
       "<table border=\"1\" class=\"dataframe\">\n",
       "  <thead>\n",
       "    <tr style=\"text-align: right;\">\n",
       "      <th></th>\n",
       "      <th>DR</th>\n",
       "      <th>Date</th>\n",
       "      <th>Year</th>\n",
       "      <th>Block</th>\n",
       "      <th>Street</th>\n",
       "      <th>Address</th>\n",
       "      <th>Lat</th>\n",
       "      <th>Lon</th>\n",
       "    </tr>\n",
       "  </thead>\n",
       "  <tbody>\n",
       "    <tr>\n",
       "      <th>117</th>\n",
       "      <td>1303395</td>\n",
       "      <td>2013-03-18</td>\n",
       "      <td>2013</td>\n",
       "      <td>NaN</td>\n",
       "      <td>UE!</td>\n",
       "      <td>NaN</td>\n",
       "      <td>33.791638</td>\n",
       "      <td>-84.389488</td>\n",
       "    </tr>\n",
       "    <tr>\n",
       "      <th>387</th>\n",
       "      <td>1600542</td>\n",
       "      <td>2016-01-11</td>\n",
       "      <td>2016</td>\n",
       "      <td>NaN</td>\n",
       "      <td>UE!</td>\n",
       "      <td>NaN</td>\n",
       "      <td>33.791638</td>\n",
       "      <td>-84.389488</td>\n",
       "    </tr>\n",
       "  </tbody>\n",
       "</table>\n",
       "</div>"
      ],
      "text/plain": [
       "          DR        Date  Year Block Street Address        Lat        Lon\n",
       "117  1303395  2013-03-18  2013   NaN    UE!     NaN  33.791638 -84.389488\n",
       "387  1600542  2016-01-11  2016   NaN    UE!     NaN  33.791638 -84.389488"
      ]
     },
     "execution_count": 386,
     "metadata": {},
     "output_type": "execute_result"
    }
   ],
   "source": [
    "addresses[addresses.Address.isna()]"
   ]
  },
  {
   "cell_type": "code",
   "execution_count": 387,
   "metadata": {},
   "outputs": [
    {
     "data": {
      "text/html": [
       "<div>\n",
       "<style scoped>\n",
       "    .dataframe tbody tr th:only-of-type {\n",
       "        vertical-align: middle;\n",
       "    }\n",
       "\n",
       "    .dataframe tbody tr th {\n",
       "        vertical-align: top;\n",
       "    }\n",
       "\n",
       "    .dataframe thead th {\n",
       "        text-align: right;\n",
       "    }\n",
       "</style>\n",
       "<table border=\"1\" class=\"dataframe\">\n",
       "  <thead>\n",
       "    <tr style=\"text-align: right;\">\n",
       "      <th></th>\n",
       "      <th>DR</th>\n",
       "      <th>Date</th>\n",
       "      <th>Year</th>\n",
       "      <th>Block</th>\n",
       "      <th>Street</th>\n",
       "      <th>Address</th>\n",
       "      <th>Lat</th>\n",
       "      <th>Lon</th>\n",
       "    </tr>\n",
       "  </thead>\n",
       "  <tbody>\n",
       "    <tr>\n",
       "      <th>502</th>\n",
       "      <td>1616423</td>\n",
       "      <td>2016-10-26</td>\n",
       "      <td>2016</td>\n",
       "      <td>0</td>\n",
       "      <td>LEMON GROVE</td>\n",
       "      <td>0 LEMON GROVE, Irvine, CA</td>\n",
       "      <td>NaN</td>\n",
       "      <td>NaN</td>\n",
       "    </tr>\n",
       "    <tr>\n",
       "      <th>879</th>\n",
       "      <td>1900223</td>\n",
       "      <td>2019-01-05</td>\n",
       "      <td>2019</td>\n",
       "      <td>0</td>\n",
       "      <td>LEMON GROVE</td>\n",
       "      <td>0 LEMON GROVE, Irvine, CA</td>\n",
       "      <td>NaN</td>\n",
       "      <td>NaN</td>\n",
       "    </tr>\n",
       "  </tbody>\n",
       "</table>\n",
       "</div>"
      ],
      "text/plain": [
       "          DR        Date  Year Block        Street                    Address  \\\n",
       "502  1616423  2016-10-26  2016     0   LEMON GROVE  0 LEMON GROVE, Irvine, CA   \n",
       "879  1900223  2019-01-05  2019     0   LEMON GROVE  0 LEMON GROVE, Irvine, CA   \n",
       "\n",
       "     Lat  Lon  \n",
       "502  NaN  NaN  \n",
       "879  NaN  NaN  "
      ]
     },
     "execution_count": 387,
     "metadata": {},
     "output_type": "execute_result"
    }
   ],
   "source": [
    "addresses[addresses.Lat.isna()]"
   ]
  },
  {
   "cell_type": "code",
   "execution_count": 388,
   "metadata": {},
   "outputs": [],
   "source": [
    "# Removing 2 records w/ missing addresses\n",
    "addresses = addresses.dropna(subset=['Address'])"
   ]
  },
  {
   "cell_type": "code",
   "execution_count": 389,
   "metadata": {},
   "outputs": [
    {
     "data": {
      "text/plain": [
       "967"
      ]
     },
     "execution_count": 389,
     "metadata": {},
     "output_type": "execute_result"
    }
   ],
   "source": [
    "len(addresses)"
   ]
  },
  {
   "cell_type": "code",
   "execution_count": 390,
   "metadata": {},
   "outputs": [
    {
     "data": {
      "text/html": [
       "<div>\n",
       "<style scoped>\n",
       "    .dataframe tbody tr th:only-of-type {\n",
       "        vertical-align: middle;\n",
       "    }\n",
       "\n",
       "    .dataframe tbody tr th {\n",
       "        vertical-align: top;\n",
       "    }\n",
       "\n",
       "    .dataframe thead th {\n",
       "        text-align: right;\n",
       "    }\n",
       "</style>\n",
       "<table border=\"1\" class=\"dataframe\">\n",
       "  <thead>\n",
       "    <tr style=\"text-align: right;\">\n",
       "      <th></th>\n",
       "      <th>DR</th>\n",
       "      <th>Date</th>\n",
       "      <th>Year</th>\n",
       "      <th>Block</th>\n",
       "      <th>Street</th>\n",
       "      <th>Address</th>\n",
       "      <th>Lat</th>\n",
       "      <th>Lon</th>\n",
       "    </tr>\n",
       "  </thead>\n",
       "  <tbody>\n",
       "    <tr>\n",
       "      <th>502</th>\n",
       "      <td>1616423</td>\n",
       "      <td>2016-10-26</td>\n",
       "      <td>2016</td>\n",
       "      <td>0</td>\n",
       "      <td>LEMON GROVE</td>\n",
       "      <td>0 LEMON GROVE, Irvine, CA</td>\n",
       "      <td>NaN</td>\n",
       "      <td>NaN</td>\n",
       "    </tr>\n",
       "    <tr>\n",
       "      <th>879</th>\n",
       "      <td>1900223</td>\n",
       "      <td>2019-01-05</td>\n",
       "      <td>2019</td>\n",
       "      <td>0</td>\n",
       "      <td>LEMON GROVE</td>\n",
       "      <td>0 LEMON GROVE, Irvine, CA</td>\n",
       "      <td>NaN</td>\n",
       "      <td>NaN</td>\n",
       "    </tr>\n",
       "  </tbody>\n",
       "</table>\n",
       "</div>"
      ],
      "text/plain": [
       "          DR        Date  Year Block        Street                    Address  \\\n",
       "502  1616423  2016-10-26  2016     0   LEMON GROVE  0 LEMON GROVE, Irvine, CA   \n",
       "879  1900223  2019-01-05  2019     0   LEMON GROVE  0 LEMON GROVE, Irvine, CA   \n",
       "\n",
       "     Lat  Lon  \n",
       "502  NaN  NaN  \n",
       "879  NaN  NaN  "
      ]
     },
     "execution_count": 390,
     "metadata": {},
     "output_type": "execute_result"
    }
   ],
   "source": [
    "# Editing lat/lon of address w/ missing lat/lon\n",
    "addresses[addresses.Address == '0 LEMON GROVE, Irvine, CA']"
   ]
  },
  {
   "cell_type": "code",
   "execution_count": 391,
   "metadata": {},
   "outputs": [],
   "source": [
    "# Changing address from 0 to 1 Lemon Grove (since no address corresponds to '0 Lemon Grove' in Google Maps)\n",
    "addresses.loc[addresses.Address == '0 LEMON GROVE, Irvine, CA', 'Address'] = '1 LEMON GROVE, Irvine, CA'\n",
    "addresses.loc[addresses.Address == '1 LEMON GROVE, Irvine, CA', 'Block'] = 1"
   ]
  },
  {
   "cell_type": "code",
   "execution_count": 392,
   "metadata": {},
   "outputs": [
    {
     "data": {
      "text/html": [
       "<div>\n",
       "<style scoped>\n",
       "    .dataframe tbody tr th:only-of-type {\n",
       "        vertical-align: middle;\n",
       "    }\n",
       "\n",
       "    .dataframe tbody tr th {\n",
       "        vertical-align: top;\n",
       "    }\n",
       "\n",
       "    .dataframe thead th {\n",
       "        text-align: right;\n",
       "    }\n",
       "</style>\n",
       "<table border=\"1\" class=\"dataframe\">\n",
       "  <thead>\n",
       "    <tr style=\"text-align: right;\">\n",
       "      <th></th>\n",
       "      <th>DR</th>\n",
       "      <th>Date</th>\n",
       "      <th>Year</th>\n",
       "      <th>Block</th>\n",
       "      <th>Street</th>\n",
       "      <th>Address</th>\n",
       "      <th>Lat</th>\n",
       "      <th>Lon</th>\n",
       "    </tr>\n",
       "  </thead>\n",
       "  <tbody>\n",
       "    <tr>\n",
       "      <th>502</th>\n",
       "      <td>1616423</td>\n",
       "      <td>2016-10-26</td>\n",
       "      <td>2016</td>\n",
       "      <td>0</td>\n",
       "      <td>LEMON GROVE</td>\n",
       "      <td>1 LEMON GROVE, Irvine, CA</td>\n",
       "      <td>NaN</td>\n",
       "      <td>NaN</td>\n",
       "    </tr>\n",
       "    <tr>\n",
       "      <th>879</th>\n",
       "      <td>1900223</td>\n",
       "      <td>2019-01-05</td>\n",
       "      <td>2019</td>\n",
       "      <td>0</td>\n",
       "      <td>LEMON GROVE</td>\n",
       "      <td>1 LEMON GROVE, Irvine, CA</td>\n",
       "      <td>NaN</td>\n",
       "      <td>NaN</td>\n",
       "    </tr>\n",
       "  </tbody>\n",
       "</table>\n",
       "</div>"
      ],
      "text/plain": [
       "          DR        Date  Year Block        Street                    Address  \\\n",
       "502  1616423  2016-10-26  2016     0   LEMON GROVE  1 LEMON GROVE, Irvine, CA   \n",
       "879  1900223  2019-01-05  2019     0   LEMON GROVE  1 LEMON GROVE, Irvine, CA   \n",
       "\n",
       "     Lat  Lon  \n",
       "502  NaN  NaN  \n",
       "879  NaN  NaN  "
      ]
     },
     "execution_count": 392,
     "metadata": {},
     "output_type": "execute_result"
    }
   ],
   "source": [
    "addresses[addresses.Lat.isna()]"
   ]
  },
  {
   "cell_type": "code",
   "execution_count": 393,
   "metadata": {},
   "outputs": [],
   "source": [
    "# Maually inserting Lat & Lon values for 1 Lemon Grove\n",
    "geocode = googmap.geocode('1 LEMON GROVE, Irvine, CA')\n",
    "addresses.loc[addresses.Address == '1 LEMON GROVE, Irvine, CA', 'Lat'] = float(geocode[0]['geometry']['location']['lat'])\n",
    "addresses.loc[addresses.Address == '1 LEMON GROVE, Irvine, CA', 'Lon'] = float(geocode[0]['geometry']['location']['lng'])"
   ]
  },
  {
   "cell_type": "code",
   "execution_count": 396,
   "metadata": {},
   "outputs": [
    {
     "data": {
      "text/html": [
       "<div>\n",
       "<style scoped>\n",
       "    .dataframe tbody tr th:only-of-type {\n",
       "        vertical-align: middle;\n",
       "    }\n",
       "\n",
       "    .dataframe tbody tr th {\n",
       "        vertical-align: top;\n",
       "    }\n",
       "\n",
       "    .dataframe thead th {\n",
       "        text-align: right;\n",
       "    }\n",
       "</style>\n",
       "<table border=\"1\" class=\"dataframe\">\n",
       "  <thead>\n",
       "    <tr style=\"text-align: right;\">\n",
       "      <th></th>\n",
       "      <th>DR</th>\n",
       "      <th>Date</th>\n",
       "      <th>Year</th>\n",
       "      <th>Block</th>\n",
       "      <th>Street</th>\n",
       "      <th>Address</th>\n",
       "      <th>Lat</th>\n",
       "      <th>Lon</th>\n",
       "    </tr>\n",
       "  </thead>\n",
       "  <tbody>\n",
       "    <tr>\n",
       "      <th>502</th>\n",
       "      <td>1616423</td>\n",
       "      <td>2016-10-26</td>\n",
       "      <td>2016</td>\n",
       "      <td>1</td>\n",
       "      <td>LEMON GROVE</td>\n",
       "      <td>1 LEMON GROVE, Irvine, CA</td>\n",
       "      <td>33.672522</td>\n",
       "      <td>-117.771004</td>\n",
       "    </tr>\n",
       "    <tr>\n",
       "      <th>879</th>\n",
       "      <td>1900223</td>\n",
       "      <td>2019-01-05</td>\n",
       "      <td>2019</td>\n",
       "      <td>1</td>\n",
       "      <td>LEMON GROVE</td>\n",
       "      <td>1 LEMON GROVE, Irvine, CA</td>\n",
       "      <td>33.672522</td>\n",
       "      <td>-117.771004</td>\n",
       "    </tr>\n",
       "  </tbody>\n",
       "</table>\n",
       "</div>"
      ],
      "text/plain": [
       "          DR        Date  Year Block        Street                    Address  \\\n",
       "502  1616423  2016-10-26  2016     1   LEMON GROVE  1 LEMON GROVE, Irvine, CA   \n",
       "879  1900223  2019-01-05  2019     1   LEMON GROVE  1 LEMON GROVE, Irvine, CA   \n",
       "\n",
       "           Lat         Lon  \n",
       "502  33.672522 -117.771004  \n",
       "879  33.672522 -117.771004  "
      ]
     },
     "execution_count": 396,
     "metadata": {},
     "output_type": "execute_result"
    }
   ],
   "source": [
    "addresses[addresses.Address == '1 LEMON GROVE, Irvine, CA']"
   ]
  },
  {
   "cell_type": "code",
   "execution_count": 413,
   "metadata": {},
   "outputs": [
    {
     "data": {
      "text/html": [
       "<div>\n",
       "<style scoped>\n",
       "    .dataframe tbody tr th:only-of-type {\n",
       "        vertical-align: middle;\n",
       "    }\n",
       "\n",
       "    .dataframe tbody tr th {\n",
       "        vertical-align: top;\n",
       "    }\n",
       "\n",
       "    .dataframe thead th {\n",
       "        text-align: right;\n",
       "    }\n",
       "</style>\n",
       "<table border=\"1\" class=\"dataframe\">\n",
       "  <thead>\n",
       "    <tr style=\"text-align: right;\">\n",
       "      <th></th>\n",
       "      <th>DR</th>\n",
       "      <th>Date</th>\n",
       "      <th>Year</th>\n",
       "      <th>Block</th>\n",
       "      <th>Street</th>\n",
       "      <th>Address</th>\n",
       "      <th>Lat</th>\n",
       "      <th>Lon</th>\n",
       "    </tr>\n",
       "  </thead>\n",
       "  <tbody>\n",
       "    <tr>\n",
       "      <th>191</th>\n",
       "      <td>1409643</td>\n",
       "      <td>2014-08-01</td>\n",
       "      <td>2014</td>\n",
       "      <td>4600</td>\n",
       "      <td>EL CAMINO REAL</td>\n",
       "      <td>4600 EL CAMINO REAL, Irvine, CA</td>\n",
       "      <td>35.496727</td>\n",
       "      <td>-120.681378</td>\n",
       "    </tr>\n",
       "    <tr>\n",
       "      <th>495</th>\n",
       "      <td>1614520</td>\n",
       "      <td>2016-09-22</td>\n",
       "      <td>2016</td>\n",
       "      <td>4300</td>\n",
       "      <td>EL CAMINO REAL</td>\n",
       "      <td>4300 EL CAMINO REAL, Irvine, CA</td>\n",
       "      <td>37.405366</td>\n",
       "      <td>-122.119734</td>\n",
       "    </tr>\n",
       "  </tbody>\n",
       "</table>\n",
       "</div>"
      ],
      "text/plain": [
       "          DR        Date  Year Block           Street  \\\n",
       "191  1409643  2014-08-01  2014  4600   EL CAMINO REAL   \n",
       "495  1614520  2016-09-22  2016  4300   EL CAMINO REAL   \n",
       "\n",
       "                             Address        Lat         Lon  \n",
       "191  4600 EL CAMINO REAL, Irvine, CA  35.496727 -120.681378  \n",
       "495  4300 EL CAMINO REAL, Irvine, CA  37.405366 -122.119734  "
      ]
     },
     "execution_count": 413,
     "metadata": {},
     "output_type": "execute_result"
    }
   ],
   "source": [
    "addresses[addresses.Address.str.contains('EL CAMINO REAL')]"
   ]
  },
  {
   "cell_type": "code",
   "execution_count": 414,
   "metadata": {},
   "outputs": [],
   "source": [
    "# Editing address for El Camino Real entries, based on google maps results (adding 'North')\n",
    "addresses.loc[addresses.Address == '4600 EL CAMINO REAL, Irvine, CA', 'Address'] = '4600 EL CAMINO REAL NORTH, Irvine, CA'\n",
    "addresses.loc[addresses.Address == '4300 EL CAMINO REAL, Irvine, CA', 'Address'] = '4300 EL CAMINO REAL NORTH, Irvine, CA'"
   ]
  },
  {
   "cell_type": "code",
   "execution_count": 415,
   "metadata": {},
   "outputs": [
    {
     "data": {
      "text/html": [
       "<div>\n",
       "<style scoped>\n",
       "    .dataframe tbody tr th:only-of-type {\n",
       "        vertical-align: middle;\n",
       "    }\n",
       "\n",
       "    .dataframe tbody tr th {\n",
       "        vertical-align: top;\n",
       "    }\n",
       "\n",
       "    .dataframe thead th {\n",
       "        text-align: right;\n",
       "    }\n",
       "</style>\n",
       "<table border=\"1\" class=\"dataframe\">\n",
       "  <thead>\n",
       "    <tr style=\"text-align: right;\">\n",
       "      <th></th>\n",
       "      <th>DR</th>\n",
       "      <th>Date</th>\n",
       "      <th>Year</th>\n",
       "      <th>Block</th>\n",
       "      <th>Street</th>\n",
       "      <th>Address</th>\n",
       "      <th>Lat</th>\n",
       "      <th>Lon</th>\n",
       "    </tr>\n",
       "  </thead>\n",
       "  <tbody>\n",
       "    <tr>\n",
       "      <th>191</th>\n",
       "      <td>1409643</td>\n",
       "      <td>2014-08-01</td>\n",
       "      <td>2014</td>\n",
       "      <td>4600</td>\n",
       "      <td>EL CAMINO REAL</td>\n",
       "      <td>4600 EL CAMINO REAL NORTH, Irvine, CA</td>\n",
       "      <td>35.496727</td>\n",
       "      <td>-120.681378</td>\n",
       "    </tr>\n",
       "    <tr>\n",
       "      <th>495</th>\n",
       "      <td>1614520</td>\n",
       "      <td>2016-09-22</td>\n",
       "      <td>2016</td>\n",
       "      <td>4300</td>\n",
       "      <td>EL CAMINO REAL</td>\n",
       "      <td>4300 EL CAMINO REAL NORTH, Irvine, CA</td>\n",
       "      <td>37.405366</td>\n",
       "      <td>-122.119734</td>\n",
       "    </tr>\n",
       "  </tbody>\n",
       "</table>\n",
       "</div>"
      ],
      "text/plain": [
       "          DR        Date  Year Block           Street  \\\n",
       "191  1409643  2014-08-01  2014  4600   EL CAMINO REAL   \n",
       "495  1614520  2016-09-22  2016  4300   EL CAMINO REAL   \n",
       "\n",
       "                                   Address        Lat         Lon  \n",
       "191  4600 EL CAMINO REAL NORTH, Irvine, CA  35.496727 -120.681378  \n",
       "495  4300 EL CAMINO REAL NORTH, Irvine, CA  37.405366 -122.119734  "
      ]
     },
     "execution_count": 415,
     "metadata": {},
     "output_type": "execute_result"
    }
   ],
   "source": [
    "addresses[addresses.Address.str.contains('EL CAMINO REAL')]"
   ]
  },
  {
   "cell_type": "code",
   "execution_count": 416,
   "metadata": {},
   "outputs": [],
   "source": [
    "# Maually editing Lat & Lon values for 4600 EL CAMINO REAL NORTH\n",
    "geocode = googmap.geocode('4600 EL CAMINO REAL NORTH, Irvine, CA')\n",
    "addresses.loc[addresses.Address == '4600 EL CAMINO REAL NORTH, Irvine, CA', 'Lat'] = float(geocode[0]['geometry']['location']['lat'])\n",
    "addresses.loc[addresses.Address == '4600 EL CAMINO REAL NORTH, Irvine, CA', 'Lon'] = float(geocode[0]['geometry']['location']['lng'])"
   ]
  },
  {
   "cell_type": "code",
   "execution_count": 417,
   "metadata": {},
   "outputs": [],
   "source": [
    "# Maually editing Lat & Lon values for 4300 EL CAMINO REAL NORTH\n",
    "geocode = googmap.geocode('4300 EL CAMINO REAL NORTH, Irvine, CA')\n",
    "addresses.loc[addresses.Address == '4300 EL CAMINO REAL NORTH, Irvine, CA', 'Lat'] = float(geocode[0]['geometry']['location']['lat'])\n",
    "addresses.loc[addresses.Address == '4300 EL CAMINO REAL NORTH, Irvine, CA', 'Lon'] = float(geocode[0]['geometry']['location']['lng'])"
   ]
  },
  {
   "cell_type": "code",
   "execution_count": 418,
   "metadata": {},
   "outputs": [
    {
     "data": {
      "text/html": [
       "<div>\n",
       "<style scoped>\n",
       "    .dataframe tbody tr th:only-of-type {\n",
       "        vertical-align: middle;\n",
       "    }\n",
       "\n",
       "    .dataframe tbody tr th {\n",
       "        vertical-align: top;\n",
       "    }\n",
       "\n",
       "    .dataframe thead th {\n",
       "        text-align: right;\n",
       "    }\n",
       "</style>\n",
       "<table border=\"1\" class=\"dataframe\">\n",
       "  <thead>\n",
       "    <tr style=\"text-align: right;\">\n",
       "      <th></th>\n",
       "      <th>DR</th>\n",
       "      <th>Date</th>\n",
       "      <th>Year</th>\n",
       "      <th>Block</th>\n",
       "      <th>Street</th>\n",
       "      <th>Address</th>\n",
       "      <th>Lat</th>\n",
       "      <th>Lon</th>\n",
       "    </tr>\n",
       "  </thead>\n",
       "  <tbody>\n",
       "    <tr>\n",
       "      <th>191</th>\n",
       "      <td>1409643</td>\n",
       "      <td>2014-08-01</td>\n",
       "      <td>2014</td>\n",
       "      <td>4600</td>\n",
       "      <td>EL CAMINO REAL</td>\n",
       "      <td>4600 EL CAMINO REAL NORTH, Irvine, CA</td>\n",
       "      <td>33.718494</td>\n",
       "      <td>-117.783739</td>\n",
       "    </tr>\n",
       "    <tr>\n",
       "      <th>495</th>\n",
       "      <td>1614520</td>\n",
       "      <td>2016-09-22</td>\n",
       "      <td>2016</td>\n",
       "      <td>4300</td>\n",
       "      <td>EL CAMINO REAL</td>\n",
       "      <td>4300 EL CAMINO REAL NORTH, Irvine, CA</td>\n",
       "      <td>33.718494</td>\n",
       "      <td>-117.783739</td>\n",
       "    </tr>\n",
       "  </tbody>\n",
       "</table>\n",
       "</div>"
      ],
      "text/plain": [
       "          DR        Date  Year Block           Street  \\\n",
       "191  1409643  2014-08-01  2014  4600   EL CAMINO REAL   \n",
       "495  1614520  2016-09-22  2016  4300   EL CAMINO REAL   \n",
       "\n",
       "                                   Address        Lat         Lon  \n",
       "191  4600 EL CAMINO REAL NORTH, Irvine, CA  33.718494 -117.783739  \n",
       "495  4300 EL CAMINO REAL NORTH, Irvine, CA  33.718494 -117.783739  "
      ]
     },
     "execution_count": 418,
     "metadata": {},
     "output_type": "execute_result"
    }
   ],
   "source": [
    "addresses[addresses.Address.str.contains('EL CAMINO REAL')]"
   ]
  },
  {
   "cell_type": "code",
   "execution_count": 424,
   "metadata": {},
   "outputs": [
    {
     "data": {
      "text/html": [
       "<div>\n",
       "<style scoped>\n",
       "    .dataframe tbody tr th:only-of-type {\n",
       "        vertical-align: middle;\n",
       "    }\n",
       "\n",
       "    .dataframe tbody tr th {\n",
       "        vertical-align: top;\n",
       "    }\n",
       "\n",
       "    .dataframe thead th {\n",
       "        text-align: right;\n",
       "    }\n",
       "</style>\n",
       "<table border=\"1\" class=\"dataframe\">\n",
       "  <thead>\n",
       "    <tr style=\"text-align: right;\">\n",
       "      <th></th>\n",
       "      <th>DR</th>\n",
       "      <th>Date</th>\n",
       "      <th>Year</th>\n",
       "      <th>Block</th>\n",
       "      <th>Street</th>\n",
       "      <th>Address</th>\n",
       "      <th>Lat</th>\n",
       "      <th>Lon</th>\n",
       "    </tr>\n",
       "  </thead>\n",
       "  <tbody>\n",
       "    <tr>\n",
       "      <th>40</th>\n",
       "      <td>1115622</td>\n",
       "      <td>2011-11-10</td>\n",
       "      <td>2011</td>\n",
       "      <td>0</td>\n",
       "      <td>ARBORETUM</td>\n",
       "      <td>0 ARBORETUM, Irvine, CA</td>\n",
       "      <td>33.746032</td>\n",
       "      <td>-117.808931</td>\n",
       "    </tr>\n",
       "    <tr>\n",
       "      <th>64</th>\n",
       "      <td>1202079</td>\n",
       "      <td>2012-02-12</td>\n",
       "      <td>2012</td>\n",
       "      <td>0</td>\n",
       "      <td>ARBORETUM</td>\n",
       "      <td>0 ARBORETUM, Irvine, CA</td>\n",
       "      <td>33.746032</td>\n",
       "      <td>-117.808931</td>\n",
       "    </tr>\n",
       "    <tr>\n",
       "      <th>65</th>\n",
       "      <td>1202407</td>\n",
       "      <td>2012-02-12</td>\n",
       "      <td>2012</td>\n",
       "      <td>0</td>\n",
       "      <td>ARBORETUM</td>\n",
       "      <td>0 ARBORETUM, Irvine, CA</td>\n",
       "      <td>33.746032</td>\n",
       "      <td>-117.808931</td>\n",
       "    </tr>\n",
       "    <tr>\n",
       "      <th>791</th>\n",
       "      <td>1810122</td>\n",
       "      <td>2018-07-24</td>\n",
       "      <td>2018</td>\n",
       "      <td>0</td>\n",
       "      <td>ARBORETUM</td>\n",
       "      <td>0 ARBORETUM, Irvine, CA</td>\n",
       "      <td>33.746032</td>\n",
       "      <td>-117.808931</td>\n",
       "    </tr>\n",
       "  </tbody>\n",
       "</table>\n",
       "</div>"
      ],
      "text/plain": [
       "          DR        Date  Year Block      Street                  Address  \\\n",
       "40   1115622  2011-11-10  2011     0   ARBORETUM  0 ARBORETUM, Irvine, CA   \n",
       "64   1202079  2012-02-12  2012     0   ARBORETUM  0 ARBORETUM, Irvine, CA   \n",
       "65   1202407  2012-02-12  2012     0   ARBORETUM  0 ARBORETUM, Irvine, CA   \n",
       "791  1810122  2018-07-24  2018     0   ARBORETUM  0 ARBORETUM, Irvine, CA   \n",
       "\n",
       "           Lat         Lon  \n",
       "40   33.746032 -117.808931  \n",
       "64   33.746032 -117.808931  \n",
       "65   33.746032 -117.808931  \n",
       "791  33.746032 -117.808931  "
      ]
     },
     "execution_count": 424,
     "metadata": {},
     "output_type": "execute_result"
    }
   ],
   "source": [
    "addresses[addresses.Address.str.contains('ARBORETUM')]"
   ]
  },
  {
   "cell_type": "code",
   "execution_count": 425,
   "metadata": {},
   "outputs": [
    {
     "data": {
      "text/html": [
       "<div>\n",
       "<style scoped>\n",
       "    .dataframe tbody tr th:only-of-type {\n",
       "        vertical-align: middle;\n",
       "    }\n",
       "\n",
       "    .dataframe tbody tr th {\n",
       "        vertical-align: top;\n",
       "    }\n",
       "\n",
       "    .dataframe thead th {\n",
       "        text-align: right;\n",
       "    }\n",
       "</style>\n",
       "<table border=\"1\" class=\"dataframe\">\n",
       "  <thead>\n",
       "    <tr style=\"text-align: right;\">\n",
       "      <th></th>\n",
       "      <th>DR</th>\n",
       "      <th>Date</th>\n",
       "      <th>Year</th>\n",
       "      <th>Block</th>\n",
       "      <th>Street</th>\n",
       "      <th>Address</th>\n",
       "      <th>Lat</th>\n",
       "      <th>Lon</th>\n",
       "    </tr>\n",
       "  </thead>\n",
       "  <tbody>\n",
       "    <tr>\n",
       "      <th>110</th>\n",
       "      <td>1301884</td>\n",
       "      <td>2013-02-14</td>\n",
       "      <td>2013</td>\n",
       "      <td>0</td>\n",
       "      <td>BUCKEYE</td>\n",
       "      <td>0 BUCKEYE, Irvine, CA</td>\n",
       "      <td>33.638995</td>\n",
       "      <td>-117.872792</td>\n",
       "    </tr>\n",
       "  </tbody>\n",
       "</table>\n",
       "</div>"
      ],
      "text/plain": [
       "          DR        Date  Year Block    Street                Address  \\\n",
       "110  1301884  2013-02-14  2013     0   BUCKEYE  0 BUCKEYE, Irvine, CA   \n",
       "\n",
       "           Lat         Lon  \n",
       "110  33.638995 -117.872792  "
      ]
     },
     "execution_count": 425,
     "metadata": {},
     "output_type": "execute_result"
    }
   ],
   "source": [
    "addresses[addresses.Address.str.contains('BUCKEYE')]"
   ]
  },
  {
   "cell_type": "code",
   "execution_count": 434,
   "metadata": {},
   "outputs": [
    {
     "data": {
      "text/html": [
       "<div>\n",
       "<style scoped>\n",
       "    .dataframe tbody tr th:only-of-type {\n",
       "        vertical-align: middle;\n",
       "    }\n",
       "\n",
       "    .dataframe tbody tr th {\n",
       "        vertical-align: top;\n",
       "    }\n",
       "\n",
       "    .dataframe thead th {\n",
       "        text-align: right;\n",
       "    }\n",
       "</style>\n",
       "<table border=\"1\" class=\"dataframe\">\n",
       "  <thead>\n",
       "    <tr style=\"text-align: right;\">\n",
       "      <th></th>\n",
       "      <th>DR</th>\n",
       "      <th>Date</th>\n",
       "      <th>Year</th>\n",
       "      <th>Block</th>\n",
       "      <th>Street</th>\n",
       "      <th>Address</th>\n",
       "      <th>Lat</th>\n",
       "      <th>Lon</th>\n",
       "    </tr>\n",
       "  </thead>\n",
       "  <tbody>\n",
       "    <tr>\n",
       "      <th>520</th>\n",
       "      <td>1618990</td>\n",
       "      <td>2016-12-15</td>\n",
       "      <td>2016</td>\n",
       "      <td>0</td>\n",
       "      <td>KNOLLWOOD</td>\n",
       "      <td>0 KNOLLWOOD, Irvine, CA</td>\n",
       "      <td>33.746032</td>\n",
       "      <td>-117.808931</td>\n",
       "    </tr>\n",
       "  </tbody>\n",
       "</table>\n",
       "</div>"
      ],
      "text/plain": [
       "          DR        Date  Year Block      Street                  Address  \\\n",
       "520  1618990  2016-12-15  2016     0   KNOLLWOOD  0 KNOLLWOOD, Irvine, CA   \n",
       "\n",
       "           Lat         Lon  \n",
       "520  33.746032 -117.808931  "
      ]
     },
     "execution_count": 434,
     "metadata": {},
     "output_type": "execute_result"
    }
   ],
   "source": [
    "addresses[addresses.Address.str.contains('KNOLLWOOD')]"
   ]
  },
  {
   "cell_type": "code",
   "execution_count": 426,
   "metadata": {},
   "outputs": [],
   "source": [
    "# Editing address for ARBORETUM, BUCKEYE, & KNOLLWOOD (replacing 0 w/ 1, since 0 isn't registered in google maps)\n",
    "# The original addresses were linked to similarly-named addresses outside of Irvine\n",
    "addresses.loc[addresses.Address == '0 ARBORETUM, Irvine, CA', 'Address'] = '1 ARBORETUM, Irvine, CA'\n",
    "addresses.loc[addresses.Address == '0 BUCKEYE, Irvine, CA', 'Address'] = '1 BUCKEYE, Irvine, CA'\n",
    "addresses.loc[addresses.Address == '0 KNOLLWOOD, Irvine, CA', 'Address'] = '1 KNOLLWOOD, Irvine, CA'"
   ]
  },
  {
   "cell_type": "code",
   "execution_count": 427,
   "metadata": {},
   "outputs": [],
   "source": [
    "# Maually editing Lat & Lon values for 4300 EL CAMINO REAL NORTH\n",
    "geocode = googmap.geocode('1 ARBORETUM, Irvine, CA')\n",
    "addresses.loc[addresses.Address == '1 ARBORETUM, Irvine, CA', 'Lat'] = float(geocode[0]['geometry']['location']['lat'])\n",
    "addresses.loc[addresses.Address == '1 ARBORETUM, Irvine, CA', 'Lon'] = float(geocode[0]['geometry']['location']['lng'])"
   ]
  },
  {
   "cell_type": "code",
   "execution_count": 428,
   "metadata": {},
   "outputs": [],
   "source": [
    "# Maually editing Lat & Lon values for 4300 EL CAMINO REAL NORTH\n",
    "geocode = googmap.geocode('1 BUCKEYE, Irvine, CA')\n",
    "addresses.loc[addresses.Address == '1 BUCKEYE, Irvine, CA', 'Lat'] = float(geocode[0]['geometry']['location']['lat'])\n",
    "addresses.loc[addresses.Address == '1 BUCKEYE, Irvine, CA', 'Lon'] = float(geocode[0]['geometry']['location']['lng'])"
   ]
  },
  {
   "cell_type": "code",
   "execution_count": 436,
   "metadata": {},
   "outputs": [],
   "source": [
    "# Maually editing Lat & Lon values for 4300 EL CAMINO REAL NORTH\n",
    "geocode = googmap.geocode('1 KNOLLWOOD, Irvine, CA')\n",
    "addresses.loc[addresses.Address == '1 KNOLLWOOD, Irvine, CA', 'Lat'] = float(geocode[0]['geometry']['location']['lat'])\n",
    "addresses.loc[addresses.Address == '1 KNOLLWOOD, Irvine, CA', 'Lon'] = float(geocode[0]['geometry']['location']['lng'])"
   ]
  },
  {
   "cell_type": "code",
   "execution_count": 429,
   "metadata": {},
   "outputs": [
    {
     "data": {
      "text/html": [
       "<div>\n",
       "<style scoped>\n",
       "    .dataframe tbody tr th:only-of-type {\n",
       "        vertical-align: middle;\n",
       "    }\n",
       "\n",
       "    .dataframe tbody tr th {\n",
       "        vertical-align: top;\n",
       "    }\n",
       "\n",
       "    .dataframe thead th {\n",
       "        text-align: right;\n",
       "    }\n",
       "</style>\n",
       "<table border=\"1\" class=\"dataframe\">\n",
       "  <thead>\n",
       "    <tr style=\"text-align: right;\">\n",
       "      <th></th>\n",
       "      <th>DR</th>\n",
       "      <th>Date</th>\n",
       "      <th>Year</th>\n",
       "      <th>Block</th>\n",
       "      <th>Street</th>\n",
       "      <th>Address</th>\n",
       "      <th>Lat</th>\n",
       "      <th>Lon</th>\n",
       "    </tr>\n",
       "  </thead>\n",
       "  <tbody>\n",
       "    <tr>\n",
       "      <th>110</th>\n",
       "      <td>1301884</td>\n",
       "      <td>2013-02-14</td>\n",
       "      <td>2013</td>\n",
       "      <td>0</td>\n",
       "      <td>BUCKEYE</td>\n",
       "      <td>1 BUCKEYE, Irvine, CA</td>\n",
       "      <td>33.70313</td>\n",
       "      <td>-117.783765</td>\n",
       "    </tr>\n",
       "  </tbody>\n",
       "</table>\n",
       "</div>"
      ],
      "text/plain": [
       "          DR        Date  Year Block    Street                Address  \\\n",
       "110  1301884  2013-02-14  2013     0   BUCKEYE  1 BUCKEYE, Irvine, CA   \n",
       "\n",
       "          Lat         Lon  \n",
       "110  33.70313 -117.783765  "
      ]
     },
     "execution_count": 429,
     "metadata": {},
     "output_type": "execute_result"
    }
   ],
   "source": [
    "addresses[addresses.Address.str.contains('BUCKEYE')]"
   ]
  },
  {
   "cell_type": "code",
   "execution_count": 430,
   "metadata": {},
   "outputs": [
    {
     "data": {
      "text/html": [
       "<div>\n",
       "<style scoped>\n",
       "    .dataframe tbody tr th:only-of-type {\n",
       "        vertical-align: middle;\n",
       "    }\n",
       "\n",
       "    .dataframe tbody tr th {\n",
       "        vertical-align: top;\n",
       "    }\n",
       "\n",
       "    .dataframe thead th {\n",
       "        text-align: right;\n",
       "    }\n",
       "</style>\n",
       "<table border=\"1\" class=\"dataframe\">\n",
       "  <thead>\n",
       "    <tr style=\"text-align: right;\">\n",
       "      <th></th>\n",
       "      <th>DR</th>\n",
       "      <th>Date</th>\n",
       "      <th>Year</th>\n",
       "      <th>Block</th>\n",
       "      <th>Street</th>\n",
       "      <th>Address</th>\n",
       "      <th>Lat</th>\n",
       "      <th>Lon</th>\n",
       "    </tr>\n",
       "  </thead>\n",
       "  <tbody>\n",
       "    <tr>\n",
       "      <th>40</th>\n",
       "      <td>1115622</td>\n",
       "      <td>2011-11-10</td>\n",
       "      <td>2011</td>\n",
       "      <td>0</td>\n",
       "      <td>ARBORETUM</td>\n",
       "      <td>1 ARBORETUM, Irvine, CA</td>\n",
       "      <td>33.698452</td>\n",
       "      <td>-117.747519</td>\n",
       "    </tr>\n",
       "    <tr>\n",
       "      <th>64</th>\n",
       "      <td>1202079</td>\n",
       "      <td>2012-02-12</td>\n",
       "      <td>2012</td>\n",
       "      <td>0</td>\n",
       "      <td>ARBORETUM</td>\n",
       "      <td>1 ARBORETUM, Irvine, CA</td>\n",
       "      <td>33.698452</td>\n",
       "      <td>-117.747519</td>\n",
       "    </tr>\n",
       "    <tr>\n",
       "      <th>65</th>\n",
       "      <td>1202407</td>\n",
       "      <td>2012-02-12</td>\n",
       "      <td>2012</td>\n",
       "      <td>0</td>\n",
       "      <td>ARBORETUM</td>\n",
       "      <td>1 ARBORETUM, Irvine, CA</td>\n",
       "      <td>33.698452</td>\n",
       "      <td>-117.747519</td>\n",
       "    </tr>\n",
       "    <tr>\n",
       "      <th>791</th>\n",
       "      <td>1810122</td>\n",
       "      <td>2018-07-24</td>\n",
       "      <td>2018</td>\n",
       "      <td>0</td>\n",
       "      <td>ARBORETUM</td>\n",
       "      <td>1 ARBORETUM, Irvine, CA</td>\n",
       "      <td>33.698452</td>\n",
       "      <td>-117.747519</td>\n",
       "    </tr>\n",
       "  </tbody>\n",
       "</table>\n",
       "</div>"
      ],
      "text/plain": [
       "          DR        Date  Year Block      Street                  Address  \\\n",
       "40   1115622  2011-11-10  2011     0   ARBORETUM  1 ARBORETUM, Irvine, CA   \n",
       "64   1202079  2012-02-12  2012     0   ARBORETUM  1 ARBORETUM, Irvine, CA   \n",
       "65   1202407  2012-02-12  2012     0   ARBORETUM  1 ARBORETUM, Irvine, CA   \n",
       "791  1810122  2018-07-24  2018     0   ARBORETUM  1 ARBORETUM, Irvine, CA   \n",
       "\n",
       "           Lat         Lon  \n",
       "40   33.698452 -117.747519  \n",
       "64   33.698452 -117.747519  \n",
       "65   33.698452 -117.747519  \n",
       "791  33.698452 -117.747519  "
      ]
     },
     "execution_count": 430,
     "metadata": {},
     "output_type": "execute_result"
    }
   ],
   "source": [
    "addresses[addresses.Address.str.contains('ARBORETUM')]"
   ]
  },
  {
   "cell_type": "code",
   "execution_count": 437,
   "metadata": {},
   "outputs": [
    {
     "data": {
      "text/html": [
       "<div>\n",
       "<style scoped>\n",
       "    .dataframe tbody tr th:only-of-type {\n",
       "        vertical-align: middle;\n",
       "    }\n",
       "\n",
       "    .dataframe tbody tr th {\n",
       "        vertical-align: top;\n",
       "    }\n",
       "\n",
       "    .dataframe thead th {\n",
       "        text-align: right;\n",
       "    }\n",
       "</style>\n",
       "<table border=\"1\" class=\"dataframe\">\n",
       "  <thead>\n",
       "    <tr style=\"text-align: right;\">\n",
       "      <th></th>\n",
       "      <th>DR</th>\n",
       "      <th>Date</th>\n",
       "      <th>Year</th>\n",
       "      <th>Block</th>\n",
       "      <th>Street</th>\n",
       "      <th>Address</th>\n",
       "      <th>Lat</th>\n",
       "      <th>Lon</th>\n",
       "    </tr>\n",
       "  </thead>\n",
       "  <tbody>\n",
       "    <tr>\n",
       "      <th>520</th>\n",
       "      <td>1618990</td>\n",
       "      <td>2016-12-15</td>\n",
       "      <td>2016</td>\n",
       "      <td>0</td>\n",
       "      <td>KNOLLWOOD</td>\n",
       "      <td>1 KNOLLWOOD, Irvine, CA</td>\n",
       "      <td>33.73225</td>\n",
       "      <td>-117.776461</td>\n",
       "    </tr>\n",
       "  </tbody>\n",
       "</table>\n",
       "</div>"
      ],
      "text/plain": [
       "          DR        Date  Year Block      Street                  Address  \\\n",
       "520  1618990  2016-12-15  2016     0   KNOLLWOOD  1 KNOLLWOOD, Irvine, CA   \n",
       "\n",
       "          Lat         Lon  \n",
       "520  33.73225 -117.776461  "
      ]
     },
     "execution_count": 437,
     "metadata": {},
     "output_type": "execute_result"
    }
   ],
   "source": [
    "addresses[addresses.Address.str.contains('KNOLLWOOD')]"
   ]
  },
  {
   "cell_type": "code",
   "execution_count": 431,
   "metadata": {},
   "outputs": [
    {
     "data": {
      "text/html": [
       "<div>\n",
       "<style scoped>\n",
       "    .dataframe tbody tr th:only-of-type {\n",
       "        vertical-align: middle;\n",
       "    }\n",
       "\n",
       "    .dataframe tbody tr th {\n",
       "        vertical-align: top;\n",
       "    }\n",
       "\n",
       "    .dataframe thead th {\n",
       "        text-align: right;\n",
       "    }\n",
       "</style>\n",
       "<table border=\"1\" class=\"dataframe\">\n",
       "  <thead>\n",
       "    <tr style=\"text-align: right;\">\n",
       "      <th></th>\n",
       "      <th>DR</th>\n",
       "      <th>Date</th>\n",
       "      <th>Year</th>\n",
       "      <th>Block</th>\n",
       "      <th>Street</th>\n",
       "      <th>Address</th>\n",
       "      <th>Lat</th>\n",
       "      <th>Lon</th>\n",
       "    </tr>\n",
       "  </thead>\n",
       "  <tbody>\n",
       "    <tr>\n",
       "      <th>0</th>\n",
       "      <td>1100325</td>\n",
       "      <td>2011-01-07</td>\n",
       "      <td>2011</td>\n",
       "      <td>100</td>\n",
       "      <td>ROCKVIEW</td>\n",
       "      <td>100 ROCKVIEW, Irvine, CA</td>\n",
       "      <td>33.652512</td>\n",
       "      <td>-117.819850</td>\n",
       "    </tr>\n",
       "    <tr>\n",
       "      <th>1</th>\n",
       "      <td>1102024</td>\n",
       "      <td>2011-02-10</td>\n",
       "      <td>2011</td>\n",
       "      <td>900</td>\n",
       "      <td>SOMERVILLE</td>\n",
       "      <td>900 SOMERVILLE, Irvine, CA</td>\n",
       "      <td>33.728637</td>\n",
       "      <td>-117.760803</td>\n",
       "    </tr>\n",
       "    <tr>\n",
       "      <th>2</th>\n",
       "      <td>1105426</td>\n",
       "      <td>2011-04-19</td>\n",
       "      <td>2011</td>\n",
       "      <td>400</td>\n",
       "      <td>ORANGE BLOSSOM</td>\n",
       "      <td>400 ORANGE BLOSSOM, Irvine, CA</td>\n",
       "      <td>33.672377</td>\n",
       "      <td>-117.774126</td>\n",
       "    </tr>\n",
       "    <tr>\n",
       "      <th>3</th>\n",
       "      <td>1107360</td>\n",
       "      <td>2011-05-26</td>\n",
       "      <td>2011</td>\n",
       "      <td>0</td>\n",
       "      <td>WEATHERSFIELD</td>\n",
       "      <td>0 WEATHERSFIELD, Irvine, CA</td>\n",
       "      <td>33.729731</td>\n",
       "      <td>-117.778779</td>\n",
       "    </tr>\n",
       "    <tr>\n",
       "      <th>4</th>\n",
       "      <td>1109744</td>\n",
       "      <td>2011-06-26</td>\n",
       "      <td>2011</td>\n",
       "      <td>0</td>\n",
       "      <td>EL CAJON</td>\n",
       "      <td>0 EL CAJON, Irvine, CA</td>\n",
       "      <td>33.734975</td>\n",
       "      <td>-117.769954</td>\n",
       "    </tr>\n",
       "  </tbody>\n",
       "</table>\n",
       "</div>"
      ],
      "text/plain": [
       "        DR        Date  Year Block           Street  \\\n",
       "0  1100325  2011-01-07  2011   100         ROCKVIEW   \n",
       "1  1102024  2011-02-10  2011   900       SOMERVILLE   \n",
       "2  1105426  2011-04-19  2011   400   ORANGE BLOSSOM   \n",
       "3  1107360  2011-05-26  2011     0    WEATHERSFIELD   \n",
       "4  1109744  2011-06-26  2011     0         EL CAJON   \n",
       "\n",
       "                          Address        Lat         Lon  \n",
       "0        100 ROCKVIEW, Irvine, CA  33.652512 -117.819850  \n",
       "1      900 SOMERVILLE, Irvine, CA  33.728637 -117.760803  \n",
       "2  400 ORANGE BLOSSOM, Irvine, CA  33.672377 -117.774126  \n",
       "3     0 WEATHERSFIELD, Irvine, CA  33.729731 -117.778779  \n",
       "4          0 EL CAJON, Irvine, CA  33.734975 -117.769954  "
      ]
     },
     "execution_count": 431,
     "metadata": {},
     "output_type": "execute_result"
    }
   ],
   "source": [
    "addresses.head()"
   ]
  },
  {
   "cell_type": "code",
   "execution_count": 438,
   "metadata": {},
   "outputs": [],
   "source": [
    "addresses.to_csv('irvine_theft_lat_lon', index=False, encoding='utf-8', )"
   ]
  }
 ],
 "metadata": {
  "kernelspec": {
   "display_name": "Python 3",
   "language": "python",
   "name": "python3"
  },
  "language_info": {
   "codemirror_mode": {
    "name": "ipython",
    "version": 3
   },
   "file_extension": ".py",
   "mimetype": "text/x-python",
   "name": "python",
   "nbconvert_exporter": "python",
   "pygments_lexer": "ipython3",
   "version": "3.6.8"
  }
 },
 "nbformat": 4,
 "nbformat_minor": 2
}
